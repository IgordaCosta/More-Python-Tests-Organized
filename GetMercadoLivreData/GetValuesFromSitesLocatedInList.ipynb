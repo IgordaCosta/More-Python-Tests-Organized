{
 "cells": [
  {
   "cell_type": "code",
   "execution_count": 11,
   "metadata": {},
   "outputs": [
    {
     "name": "stdout",
     "output_type": "stream",
     "text": [
      "C:\\Users\\IgorDC\\Desktop\\MercadoLivreLocations\\Xs816\\SiteLocations.txt\n",
      "https://www.mercadolivre.com.br/drone-visuo-xs816-com-cmera-full-hd-black/p/MLB14139007?pdp_filters=category:MLB180137#searchVariation=MLB14139007&position=18&type=product&tracking_id=1b0832f9-319b-4d3e-b2d5-8c054f5c54ff\n",
      "https://www.mercadolivre.com.br/drone-visuo-xs809s-com-cmera-hd-black/p/MLB15035913?pdp_filters=category:MLB180137#searchVariation=MLB15035913&position=17&type=product&tracking_id=c3e737a5-abe9-46cf-ab9f-992ae5d7650b\n",
      "https://www.mercadolivre.com.br/drone-eachine-e511-com-cmera-hd-white/p/MLB15013000?pdp_filters=category:MLB180137#searchVariation=MLB15013000&position=15&type=product&tracking_id=424b8b6c-7bba-4972-bad5-a913eeeb9835\n"
     ]
    }
   ],
   "source": [
    "\n",
    "\n",
    "Location = r'C:\\Users\\IgorDC\\Desktop\\MercadoLivreLocations' + '\\\\'\n",
    "\n",
    "SubLocation = 'Xs816' + '\\\\'\n",
    "\n",
    "fileName= 'SiteLocations.txt'\n",
    "\n",
    "fullLocation = Location + SubLocation + fileName\n",
    "\n",
    "print(fullLocation)\n",
    "\n",
    "file1 = open(fullLocation,\"r+\")\n",
    "\n",
    "\n",
    "LocationList = file1.read()\n",
    "\n",
    "# LocationList = file1.readlines()\n",
    "\n",
    "print(LocationList)\n",
    "\n",
    "\n",
    "file1.close()"
   ]
  },
  {
   "cell_type": "code",
   "execution_count": 80,
   "metadata": {},
   "outputs": [],
   "source": [
    "try:\n",
    "    # Python 2\n",
    "    from urllib2 import urlopen\n",
    "except ImportError:\n",
    "    from urllib.request import urlopen\n",
    "from lxml import etree\n",
    "\n",
    "\n",
    "xpathselector = r'/html/body/main/div[2]/div[2]/div[1]/div[1]/div[1]/div[2]/div[1]/div[1]/div[2]/h1'\n",
    "\n",
    "url =  \"https://www.mercadolivre.com.br/drone-visuo-xs816-com-cmera-full-hd-black/p/MLB14139007?pdp_filters=category:MLB180137#searchVariation=MLB14139007&position=18&type=product&tracking_id=1b0832f9-319b-4d3e-b2d5-8c054f5c54ff\"\n",
    "\n",
    "def getSiteLocationTextXpath(url, xpathselector):\n",
    "    response = urlopen(url)\n",
    "    htmlparser = etree.HTMLParser()\n",
    "    tree = etree.parse(response, htmlparser)\n",
    "    r = tree.xpath(xpathselector)\n",
    "    \n",
    "#     try:\n",
    "#         r[0].tag\n",
    "#         z = r[0]\n",
    "#     except IndexError:\n",
    "#         z = r\n",
    "#     print(len(z))\n",
    "#     LocationText = z.text\n",
    "\n",
    "    \n",
    "    try:\n",
    "        LocationText = r[0].text\n",
    "    except IndexError:\n",
    "        \n",
    "        for i in tree.xpath(xpathselector):\n",
    "            print( \"\".join(filter(lambda x: ord(x)<64, i.text)).strip())\n",
    "        LocationText = r\n",
    "#         print(r.tag)\n",
    "        \n",
    "#         LocationText = \"\".join(filter(lambda x: ord(x)<64, r.text)).strip()\n",
    "\n",
    "    return LocationText\n",
    "\n"
   ]
  },
  {
   "cell_type": "code",
   "execution_count": 55,
   "metadata": {},
   "outputs": [
    {
     "name": "stdout",
     "output_type": "stream",
     "text": [
      "Help on list object:\n",
      "\n",
      "class list(object)\n",
      " |  list(iterable=(), /)\n",
      " |  \n",
      " |  Built-in mutable sequence.\n",
      " |  \n",
      " |  If no argument is given, the constructor creates a new empty list.\n",
      " |  The argument must be an iterable if specified.\n",
      " |  \n",
      " |  Methods defined here:\n",
      " |  \n",
      " |  __add__(self, value, /)\n",
      " |      Return self+value.\n",
      " |  \n",
      " |  __contains__(self, key, /)\n",
      " |      Return key in self.\n",
      " |  \n",
      " |  __delitem__(self, key, /)\n",
      " |      Delete self[key].\n",
      " |  \n",
      " |  __eq__(self, value, /)\n",
      " |      Return self==value.\n",
      " |  \n",
      " |  __ge__(self, value, /)\n",
      " |      Return self>=value.\n",
      " |  \n",
      " |  __getattribute__(self, name, /)\n",
      " |      Return getattr(self, name).\n",
      " |  \n",
      " |  __getitem__(...)\n",
      " |      x.__getitem__(y) <==> x[y]\n",
      " |  \n",
      " |  __gt__(self, value, /)\n",
      " |      Return self>value.\n",
      " |  \n",
      " |  __iadd__(self, value, /)\n",
      " |      Implement self+=value.\n",
      " |  \n",
      " |  __imul__(self, value, /)\n",
      " |      Implement self*=value.\n",
      " |  \n",
      " |  __init__(self, /, *args, **kwargs)\n",
      " |      Initialize self.  See help(type(self)) for accurate signature.\n",
      " |  \n",
      " |  __iter__(self, /)\n",
      " |      Implement iter(self).\n",
      " |  \n",
      " |  __le__(self, value, /)\n",
      " |      Return self<=value.\n",
      " |  \n",
      " |  __len__(self, /)\n",
      " |      Return len(self).\n",
      " |  \n",
      " |  __lt__(self, value, /)\n",
      " |      Return self<value.\n",
      " |  \n",
      " |  __mul__(self, value, /)\n",
      " |      Return self*value.\n",
      " |  \n",
      " |  __ne__(self, value, /)\n",
      " |      Return self!=value.\n",
      " |  \n",
      " |  __repr__(self, /)\n",
      " |      Return repr(self).\n",
      " |  \n",
      " |  __reversed__(self, /)\n",
      " |      Return a reverse iterator over the list.\n",
      " |  \n",
      " |  __rmul__(self, value, /)\n",
      " |      Return value*self.\n",
      " |  \n",
      " |  __setitem__(self, key, value, /)\n",
      " |      Set self[key] to value.\n",
      " |  \n",
      " |  __sizeof__(self, /)\n",
      " |      Return the size of the list in memory, in bytes.\n",
      " |  \n",
      " |  append(self, object, /)\n",
      " |      Append object to the end of the list.\n",
      " |  \n",
      " |  clear(self, /)\n",
      " |      Remove all items from list.\n",
      " |  \n",
      " |  copy(self, /)\n",
      " |      Return a shallow copy of the list.\n",
      " |  \n",
      " |  count(self, value, /)\n",
      " |      Return number of occurrences of value.\n",
      " |  \n",
      " |  extend(self, iterable, /)\n",
      " |      Extend list by appending elements from the iterable.\n",
      " |  \n",
      " |  index(self, value, start=0, stop=9223372036854775807, /)\n",
      " |      Return first index of value.\n",
      " |      \n",
      " |      Raises ValueError if the value is not present.\n",
      " |  \n",
      " |  insert(self, index, object, /)\n",
      " |      Insert object before index.\n",
      " |  \n",
      " |  pop(self, index=-1, /)\n",
      " |      Remove and return item at index (default last).\n",
      " |      \n",
      " |      Raises IndexError if list is empty or index is out of range.\n",
      " |  \n",
      " |  remove(self, value, /)\n",
      " |      Remove first occurrence of value.\n",
      " |      \n",
      " |      Raises ValueError if the value is not present.\n",
      " |  \n",
      " |  reverse(self, /)\n",
      " |      Reverse *IN PLACE*.\n",
      " |  \n",
      " |  sort(self, /, *, key=None, reverse=False)\n",
      " |      Stable sort *IN PLACE*.\n",
      " |  \n",
      " |  ----------------------------------------------------------------------\n",
      " |  Static methods defined here:\n",
      " |  \n",
      " |  __new__(*args, **kwargs) from builtins.type\n",
      " |      Create and return a new object.  See help(type) for accurate signature.\n",
      " |  \n",
      " |  ----------------------------------------------------------------------\n",
      " |  Data and other attributes defined here:\n",
      " |  \n",
      " |  __hash__ = None\n",
      "\n"
     ]
    }
   ],
   "source": [
    "help(r)"
   ]
  },
  {
   "cell_type": "code",
   "execution_count": 63,
   "metadata": {},
   "outputs": [
    {
     "name": "stdout",
     "output_type": "stream",
     "text": [
      "<Element h1 at 0x2a544cc7148>\n"
     ]
    },
    {
     "data": {
      "text/plain": [
       "'Drone Visuo XS816 com câmera Full HD  black'"
      ]
     },
     "execution_count": 63,
     "metadata": {},
     "output_type": "execute_result"
    }
   ],
   "source": [
    "xpathselector = r'/html/body/main/div[2]/div[2]/div[1]/div[1]/div[1]/div[2]/div[1]/div[1]/div[2]/h1'\n",
    "\n",
    "url =  \"https://www.mercadolivre.com.br/drone-visuo-xs816-com-cmera-full-hd-black/p/MLB14139007?pdp_filters=category:MLB180137#searchVariation=MLB14139007&position=18&type=product&tracking_id=1b0832f9-319b-4d3e-b2d5-8c054f5c54ff\"\n",
    "\n",
    "\n",
    "getSiteLocationTextXpath(url, xpathselector)"
   ]
  },
  {
   "cell_type": "code",
   "execution_count": 81,
   "metadata": {},
   "outputs": [
    {
     "name": "stdout",
     "output_type": "stream",
     "text": [
      "[]\n"
     ]
    }
   ],
   "source": [
    "xpathselector = '/html/body/main/div[2]/div[2]/div[1]/div[1]/div[1]/div[2]/div[3]/div[1]/div/span/span[2]'\n",
    "\n",
    "# xpathselector = '/html/body/main/div[2]/div[2]/div[1]/div[1]'\n",
    "\n",
    "url =  \"https://www.mercadolivre.com.br/drone-visuo-xs816-com-cmera-full-hd-black/p/MLB14139007?pdp_filters=category:MLB180137#searchVariation=MLB14139007&position=18&type=product&tracking_id=1b0832f9-319b-4d3e-b2d5-8c054f5c54ff\"\n",
    "\n",
    "\n",
    "ResultGotten = getSiteLocationTextXpath(url, xpathselector)\n",
    "\n",
    "print(ResultGotten)\n"
   ]
  },
  {
   "cell_type": "code",
   "execution_count": 49,
   "metadata": {},
   "outputs": [
    {
     "name": "stdout",
     "output_type": "stream",
     "text": [
      "Novo  |  72 vendidos\n",
      "72\n"
     ]
    }
   ],
   "source": [
    "xpathselector = '/html/body/main/div[2]/div[2]/div[1]/div[1]/div[1]/div[2]/div[1]/div[1]/div[1]/span'\n",
    "\n",
    "url =  \"https://www.mercadolivre.com.br/drone-visuo-xs816-com-cmera-full-hd-black/p/MLB14139007?pdp_filters=category:MLB180137#searchVariation=MLB14139007&position=18&type=product&tracking_id=1b0832f9-319b-4d3e-b2d5-8c054f5c54ff\"\n",
    "\n",
    "\n",
    "TextGotten = getSiteLocationTextXpath(url, xpathselector)\n",
    "\n",
    "restultText = int(TextGotten[9:-9])\n",
    "\n",
    "\n",
    "print(TextGotten)\n",
    "print(restultText)\n"
   ]
  },
  {
   "cell_type": "code",
   "execution_count": 46,
   "metadata": {},
   "outputs": [
    {
     "data": {
      "text/plain": [
       "9"
      ]
     },
     "execution_count": 46,
     "metadata": {},
     "output_type": "execute_result"
    }
   ],
   "source": [
    "stringUsed = ' vendidos'\n",
    "\n",
    "len(stringUsed)"
   ]
  },
  {
   "cell_type": "code",
   "execution_count": 2,
   "metadata": {},
   "outputs": [],
   "source": [
    "try:\n",
    "    # Python 2\n",
    "    from urllib2 import urlopen\n",
    "except ImportError:\n",
    "    from urllib.request import urlopen\n",
    "\n",
    "from bs4 import BeautifulSoup\n",
    "\n",
    "\n",
    "\n",
    "\n",
    "\n",
    "def GetHtmlValue(url, CssSelector, findWebsite = False):\n",
    "    response = urlopen(url)\n",
    "\n",
    "    soup = BeautifulSoup(response)\n",
    "\n",
    "    resultSelect = soup.select(CssSelector)\n",
    "    \n",
    "    if findWebsite:\n",
    "        resultSelectText = resultSelect[0].find('a')['href']\n",
    "        \n",
    "    else:\n",
    "        resultSelectText = resultSelect[0].text\n",
    "    \n",
    "    \n",
    "    \n",
    "    return resultSelectText \n",
    "    \n",
    "\n",
    "    \n",
    "\n",
    "\n"
   ]
  },
  {
   "cell_type": "code",
   "execution_count": 101,
   "metadata": {},
   "outputs": [
    {
     "name": "stdout",
     "output_type": "stream",
     "text": [
      "790\n"
     ]
    }
   ],
   "source": [
    "#Item Price\n",
    "\n",
    "url =  \"https://www.mercadolivre.com.br/drone-visuo-xs816-com-cmera-full-hd-black/p/MLB14139007?pdp_filters=category:MLB180137#searchVariation=MLB14139007&position=18&type=product&tracking_id=1b0832f9-319b-4d3e-b2d5-8c054f5c54ff\"\n",
    "\n",
    "CssSelector = 'span.price-tag-fraction:nth-child(3)'\n",
    "\n",
    "\n",
    "\n",
    "resultSelectText = GetHtmlValue(url, CssSelector)\n",
    "\n",
    "print(resultSelectText)"
   ]
  },
  {
   "cell_type": "code",
   "execution_count": 102,
   "metadata": {},
   "outputs": [
    {
     "name": "stdout",
     "output_type": "stream",
     "text": [
      "Drone Visuo XS816 com câmera Full HD  black\n"
     ]
    }
   ],
   "source": [
    "#Name of Item\n",
    "\n",
    "url =  \"https://www.mercadolivre.com.br/drone-visuo-xs816-com-cmera-full-hd-black/p/MLB14139007?pdp_filters=category:MLB180137#searchVariation=MLB14139007&position=18&type=product&tracking_id=1b0832f9-319b-4d3e-b2d5-8c054f5c54ff\"\n",
    "\n",
    "CssSelector = '.ui-pdp-title'\n",
    "\n",
    "\n",
    "\n",
    "resultSelectText = GetHtmlValue(url, CssSelector)\n",
    "\n",
    "print(resultSelectText)"
   ]
  },
  {
   "cell_type": "code",
   "execution_count": 106,
   "metadata": {},
   "outputs": [
    {
     "name": "stdout",
     "output_type": "stream",
     "text": [
      "72\n"
     ]
    }
   ],
   "source": [
    "#Number Of Itens Sold\n",
    "\n",
    "url =  \"https://www.mercadolivre.com.br/drone-visuo-xs816-com-cmera-full-hd-black/p/MLB14139007?pdp_filters=category:MLB180137#searchVariation=MLB14139007&position=18&type=product&tracking_id=1b0832f9-319b-4d3e-b2d5-8c054f5c54ff\"\n",
    "\n",
    "CssSelector = '.ui-pdp-subtitle'\n",
    "\n",
    "\n",
    "\n",
    "resultSelectText = GetHtmlValue(url, CssSelector)\n",
    "\n",
    "# print(resultSelectText)\n",
    "\n",
    "NumberSold = int(resultSelectText[9:-9])\n",
    "\n",
    "\n",
    "\n",
    "print(NumberSold)"
   ]
  },
  {
   "cell_type": "code",
   "execution_count": 3,
   "metadata": {},
   "outputs": [],
   "source": [
    "try:\n",
    "    # Python 2\n",
    "    from urllib2 import urlopen\n",
    "except ImportError:\n",
    "    from urllib.request import urlopen\n",
    "\n",
    "from bs4 import BeautifulSoup\n",
    "\n",
    "\n",
    "\n",
    "def GetHtmlValueFromList(url, CssSelectorList):\n",
    "    response = urlopen(url)\n",
    "\n",
    "    soup = BeautifulSoup(response)\n",
    "    \n",
    "    resultSelectTextList = []\n",
    "    \n",
    "    for CssSelector in CssSelectorList:\n",
    "\n",
    "        resultSelect = soup.select(CssSelector)\n",
    "\n",
    "        resultSelectText = resultSelect[0].text\n",
    "        \n",
    "        resultSelectTextList.append(resultSelectText)\n",
    "        \n",
    "    \n",
    "    return resultSelectTextList "
   ]
  },
  {
   "cell_type": "code",
   "execution_count": 4,
   "metadata": {},
   "outputs": [
    {
     "name": "stdout",
     "output_type": "stream",
     "text": [
      "['72', 'Drone Visuo XS816 com câmera Full HD  black', '790']\n"
     ]
    }
   ],
   "source": [
    "url =  \"https://www.mercadolivre.com.br/drone-visuo-xs816-com-cmera-full-hd-black/p/MLB14139007?pdp_filters=category:MLB180137#searchVariation=MLB14139007&position=18&type=product&tracking_id=1b0832f9-319b-4d3e-b2d5-8c054f5c54ff\"\n",
    "\n",
    "\n",
    "\n",
    "CssSelectorList = ['.ui-pdp-subtitle', '.ui-pdp-title', 'span.price-tag-fraction:nth-child(3)' ]\n",
    "\n",
    "resultGotten = GetHtmlValueFromList(url, CssSelectorList)\n",
    "\n",
    "# print(resultGotten)\n",
    "\n",
    "resultGotten[0] = resultGotten[0][9:-9]\n",
    "\n",
    "print(resultGotten)"
   ]
  },
  {
   "cell_type": "code",
   "execution_count": 5,
   "metadata": {},
   "outputs": [
    {
     "name": "stdout",
     "output_type": "stream",
     "text": [
      "['https://www.mercadolivre.com.br/drone-visuo-xs816-com-cmera-full-hd-black/p/MLB14139007?pdp_filters=category:MLB180137#searchVariation=MLB14139007&position=18&type=product&tracking_id=1b0832f9-319b-4d3e-b2d5-8c054f5c54ff\\n', 'https://www.mercadolivre.com.br/drone-visuo-xs809s-com-cmera-hd-black/p/MLB15035913?pdp_filters=category:MLB180137#searchVariation=MLB15035913&position=17&type=product&tracking_id=c3e737a5-abe9-46cf-ab9f-992ae5d7650b\\n', 'https://www.mercadolivre.com.br/drone-eachine-e511-com-cmera-hd-white/p/MLB15013000?pdp_filters=category:MLB180137#searchVariation=MLB15013000&position=15&type=product&tracking_id=424b8b6c-7bba-4972-bad5-a913eeeb9835']\n"
     ]
    }
   ],
   "source": [
    "Location = r'C:\\Users\\IgorDC\\Desktop\\MercadoLivreLocations' + '\\\\'\n",
    "\n",
    "SubLocation = 'drone' + '\\\\'\n",
    "\n",
    "fileName= 'SiteLocations.txt'\n",
    "\n",
    "\n",
    "def GetTextParagraphAsList(Location, SubLocation, fileName):\n",
    "\n",
    "    fullLocation = Location + SubLocation + fileName\n",
    "\n",
    "    file1 = open(fullLocation,\"r+\")\n",
    "\n",
    "    LocationList = file1.readlines()\n",
    "\n",
    "    file1.close()\n",
    "    \n",
    "    return LocationList\n",
    "\n",
    "\n",
    "LocationList = GetTextParagraphAsList(Location, SubLocation, fileName)\n",
    "\n",
    "print(LocationList)\n",
    "\n"
   ]
  },
  {
   "cell_type": "code",
   "execution_count": null,
   "metadata": {},
   "outputs": [],
   "source": []
  },
  {
   "cell_type": "code",
   "execution_count": 6,
   "metadata": {},
   "outputs": [],
   "source": [
    "import pprint\n",
    "\n",
    "from datetime import datetime, timezone, timedelta, date\n",
    "\n",
    "\n",
    "\n",
    "\n",
    "def DoubleListSitesInformation(LocationList, CssSelectorList):\n",
    "    \n",
    "    timeNow0 = datetime.now() \n",
    "    timeNow = timeNow0.strftime('%Y/%m/%d-%H:%M_H') \n",
    "\n",
    "    SiteValuesList = []\n",
    "    for item in LocationList:\n",
    "\n",
    "#         CssSelectorList = ['.ui-pdp-subtitle', '.ui-pdp-title', 'span.price-tag-fraction:nth-child(3)' ]\n",
    "\n",
    "        resultGotten = GetHtmlValueFromList(item, CssSelectorList)\n",
    "\n",
    "        resultGotten[0] = resultGotten[0][9:-9]\n",
    "\n",
    "        resultGotten.append(item)\n",
    "\n",
    "        resultGotten.append(timeNow)\n",
    "\n",
    "        SiteValuesList.append(resultGotten)\n",
    "\n",
    "    return SiteValuesList\n",
    "\n",
    "\n",
    "    "
   ]
  },
  {
   "cell_type": "code",
   "execution_count": 7,
   "metadata": {},
   "outputs": [
    {
     "name": "stdout",
     "output_type": "stream",
     "text": [
      "[['72',\n",
      "  'Drone Visuo XS816 com câmera Full HD  black',\n",
      "  '790',\n",
      "  'https://www.mercadolivre.com.br/drone-visuo-xs816-com-cmera-full-hd-black/p/MLB14139007?pdp_filters=category:MLB180137#searchVariation=MLB14139007&position=18&type=product&tracking_id=1b0832f9-319b-4d3e-b2d5-8c054f5c54ff\\n',\n",
      "  '2021/03/27-04:52_H'],\n",
      " ['1360',\n",
      "  'Drone Visuo XS809S com câmera HD  black',\n",
      "  '742',\n",
      "  'https://www.mercadolivre.com.br/drone-visuo-xs809s-com-cmera-hd-black/p/MLB15035913?pdp_filters=category:MLB180137#searchVariation=MLB15035913&position=17&type=product&tracking_id=c3e737a5-abe9-46cf-ab9f-992ae5d7650b\\n',\n",
      "  '2021/03/27-04:52_H'],\n",
      " ['63',\n",
      "  'Drone Eachine E511 com câmera HD  white',\n",
      "  '696',\n",
      "  'https://www.mercadolivre.com.br/drone-eachine-e511-com-cmera-hd-white/p/MLB15013000?pdp_filters=category:MLB180137#searchVariation=MLB15013000&position=15&type=product&tracking_id=424b8b6c-7bba-4972-bad5-a913eeeb9835',\n",
      "  '2021/03/27-04:52_H']]\n"
     ]
    }
   ],
   "source": [
    "import pprint\n",
    "\n",
    "CssSelectorList = ['.ui-pdp-subtitle', '.ui-pdp-title', 'span.price-tag-fraction:nth-child(3)' ]\n",
    "\n",
    "\n",
    "SiteValuesList = DoubleListSitesInformation(LocationList, CssSelectorList)\n",
    "\n",
    "pprint.pprint(SiteValuesList)"
   ]
  },
  {
   "cell_type": "code",
   "execution_count": 8,
   "metadata": {},
   "outputs": [
    {
     "name": "stdout",
     "output_type": "stream",
     "text": [
      "[['72',\n",
      "  'Drone Visuo XS816 com câmera Full HD  black',\n",
      "  '790',\n",
      "  'https://www.mercadolivre.com.br/drone-visuo-xs816-com-cmera-full-hd-black/p/MLB14139007?pdp_filters=category:MLB180137#searchVariation=MLB14139007&position=18&type=product&tracking_id=1b0832f9-319b-4d3e-b2d5-8c054f5c54ff\\n',\n",
      "  '2021/03/27-04:53_H'],\n",
      " ['1360',\n",
      "  'Drone Visuo XS809S com câmera HD  black',\n",
      "  '742',\n",
      "  'https://www.mercadolivre.com.br/drone-visuo-xs809s-com-cmera-hd-black/p/MLB15035913?pdp_filters=category:MLB180137#searchVariation=MLB15035913&position=17&type=product&tracking_id=c3e737a5-abe9-46cf-ab9f-992ae5d7650b\\n',\n",
      "  '2021/03/27-04:53_H'],\n",
      " ['63',\n",
      "  'Drone Eachine E511 com câmera HD  white',\n",
      "  '696',\n",
      "  'https://www.mercadolivre.com.br/drone-eachine-e511-com-cmera-hd-white/p/MLB15013000?pdp_filters=category:MLB180137#searchVariation=MLB15013000&position=15&type=product&tracking_id=424b8b6c-7bba-4972-bad5-a913eeeb9835',\n",
      "  '2021/03/27-04:53_H']]\n"
     ]
    }
   ],
   "source": [
    "\n",
    "import pprint\n",
    "\n",
    "Location = r'C:\\Users\\IgorDC\\Desktop\\MercadoLivreLocations' + '\\\\'\n",
    "\n",
    "SubLocation = 'drone' + '\\\\'\n",
    "\n",
    "fileName= 'SiteLocations.txt'\n",
    "\n",
    "\n",
    "CssSelectorList = ['.ui-pdp-subtitle', '.ui-pdp-title', 'span.price-tag-fraction:nth-child(3)' ]\n",
    "\n",
    "\n",
    "\n",
    "LocationList = GetTextParagraphAsList(Location, SubLocation, fileName)\n",
    "\n",
    "\n",
    "SiteValuesList = DoubleListSitesInformation(LocationList, CssSelectorList)\n",
    "\n",
    "\n",
    "\n",
    "pprint.pprint(SiteValuesList)"
   ]
  },
  {
   "cell_type": "code",
   "execution_count": null,
   "metadata": {},
   "outputs": [],
   "source": []
  }
 ],
 "metadata": {
  "kernelspec": {
   "display_name": "Python 3",
   "language": "python",
   "name": "python3"
  },
  "language_info": {
   "codemirror_mode": {
    "name": "ipython",
    "version": 3
   },
   "file_extension": ".py",
   "mimetype": "text/x-python",
   "name": "python",
   "nbconvert_exporter": "python",
   "pygments_lexer": "ipython3",
   "version": "3.7.4"
  }
 },
 "nbformat": 4,
 "nbformat_minor": 2
}
