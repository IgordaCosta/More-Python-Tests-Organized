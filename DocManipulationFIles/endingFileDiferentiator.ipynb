{
 "cells": [
  {
   "cell_type": "code",
   "execution_count": 142,
   "metadata": {},
   "outputs": [],
   "source": [
    "def dec2Anybase(num,baseList): \n",
    "    \n",
    "    base=len(baseList)\n",
    "    base_numList = []    \n",
    "    newdiv = num\n",
    "    \n",
    "    while newdiv>base:\n",
    "        dig = int(newdiv%base)\n",
    "\n",
    "        newdiv = newdiv/base\n",
    "        base_num = base_numList.append(baseList[dig])\n",
    "\n",
    "    base_num = base_numList.append(baseList[int(newdiv)])\n",
    "    base_numList = base_numList[::-1]  \n",
    "    \n",
    "    base_numString= ''.join(base_numList)\n",
    "        \n",
    "    return base_numString"
   ]
  },
  {
   "cell_type": "code",
   "execution_count": 149,
   "metadata": {},
   "outputs": [],
   "source": [
    "import time\n",
    "import string\n",
    "\n",
    "def endingFileDiferentiator(Multiple = 1.789, makeRandom=False):\n",
    "    num=int(time.time()*1000)*Multiple \n",
    "\n",
    "    separator = '_' # this is the string used to append this ending so to remove it for name rerification\n",
    "    stringChosen = string.ascii_letters + '!#$%&()*+,-:;<=>?@[]^{|}~'\n",
    "\n",
    "    baseList= list(stringChosen)\n",
    "    \n",
    "    if makeRandom:\n",
    "        random.shuffle(baseList)\n",
    "\n",
    "    FileDiferentiator = dec2Anybase(num,baseList)\n",
    "    \n",
    "    \n",
    "    return FileDiferentiator"
   ]
  },
  {
   "cell_type": "code",
   "execution_count": 150,
   "metadata": {},
   "outputs": [
    {
     "data": {
      "text/plain": [
       "'n{*Qdwi'"
      ]
     },
     "execution_count": 150,
     "metadata": {},
     "output_type": "execute_result"
    }
   ],
   "source": [
    "endingFileDiferentiator()"
   ]
  },
  {
   "cell_type": "code",
   "execution_count": 151,
   "metadata": {},
   "outputs": [
    {
     "data": {
      "text/plain": [
       "'aqE#LD^'"
      ]
     },
     "execution_count": 151,
     "metadata": {},
     "output_type": "execute_result"
    }
   ],
   "source": [
    "endingFileDiferentiator(makeRandom=True)"
   ]
  },
  {
   "cell_type": "code",
   "execution_count": 152,
   "metadata": {},
   "outputs": [
    {
     "name": "stdout",
     "output_type": "stream",
     "text": [
      "hNGIBhY\n"
     ]
    }
   ],
   "source": [
    "print(endingFileDiferentiator(makeRandom=True))\n"
   ]
  },
  {
   "cell_type": "code",
   "execution_count": null,
   "metadata": {},
   "outputs": [],
   "source": []
  },
  {
   "cell_type": "code",
   "execution_count": 154,
   "metadata": {},
   "outputs": [
    {
     "name": "stdout",
     "output_type": "stream",
     "text": [
      "77\n"
     ]
    }
   ],
   "source": [
    "print(len(string.ascii_letters + '!#$%&()*+,-:;<=>?@[]^{|}~'))"
   ]
  },
  {
   "cell_type": "code",
   "execution_count": 155,
   "metadata": {},
   "outputs": [
    {
     "data": {
      "text/plain": [
       "141.331"
      ]
     },
     "execution_count": 155,
     "metadata": {},
     "output_type": "execute_result"
    }
   ],
   "source": [
    "79*1.789"
   ]
  },
  {
   "cell_type": "code",
   "execution_count": 156,
   "metadata": {},
   "outputs": [
    {
     "data": {
      "text/plain": [
       "0.5602836879432624"
      ]
     },
     "execution_count": 156,
     "metadata": {},
     "output_type": "execute_result"
    }
   ],
   "source": [
    "79/141\n"
   ]
  },
  {
   "cell_type": "code",
   "execution_count": null,
   "metadata": {},
   "outputs": [],
   "source": [
    "#this 56% difference causes the dificulty to find the source data idea"
   ]
  },
  {
   "cell_type": "code",
   "execution_count": 157,
   "metadata": {},
   "outputs": [
    {
     "data": {
      "text/plain": [
       "'abcdefghijklmnopqrstuvwxyzABCDEFGHIJKLMNOPQRSTUVWXYZ!#$%&()*+,-:;<=>?@[]^{|}~'"
      ]
     },
     "execution_count": 157,
     "metadata": {},
     "output_type": "execute_result"
    }
   ],
   "source": [
    "import random\n",
    "\n",
    "string.ascii_letters + '!#$%&()*+,-:;<=>?@[]^{|}~'"
   ]
  },
  {
   "cell_type": "code",
   "execution_count": 160,
   "metadata": {},
   "outputs": [],
   "source": [
    "ListUsed = list(string.ascii_letters + '!#$%&()*+,-:;<=>?@[]^{|}~')\n",
    "\n",
    "random.shuffle(ListUsed)"
   ]
  },
  {
   "cell_type": "code",
   "execution_count": 162,
   "metadata": {},
   "outputs": [
    {
     "data": {
      "text/plain": [
       "['l',\n",
       " 'k',\n",
       " '*',\n",
       " '<',\n",
       " 'h',\n",
       " 'T',\n",
       " 'B',\n",
       " '}',\n",
       " 'C',\n",
       " 'i',\n",
       " '?',\n",
       " '[',\n",
       " 'U',\n",
       " 'u',\n",
       " 'A',\n",
       " 'Y',\n",
       " 'V',\n",
       " '^',\n",
       " ';',\n",
       " 'n',\n",
       " 'J',\n",
       " '$',\n",
       " 'q',\n",
       " 'E',\n",
       " '%',\n",
       " 's',\n",
       " '~',\n",
       " 'g',\n",
       " '(',\n",
       " 'y',\n",
       " 'a',\n",
       " 'o',\n",
       " 'x',\n",
       " 'H',\n",
       " '>',\n",
       " 'W',\n",
       " 'N',\n",
       " 'S',\n",
       " 'I',\n",
       " '+',\n",
       " 'c',\n",
       " 'X',\n",
       " 'G',\n",
       " 'F',\n",
       " 'd',\n",
       " 'Q',\n",
       " 'P',\n",
       " '&',\n",
       " ',',\n",
       " 'M',\n",
       " ')',\n",
       " 'z',\n",
       " '#',\n",
       " '|',\n",
       " 'R',\n",
       " ':',\n",
       " 'e',\n",
       " 'm',\n",
       " 'w',\n",
       " 'D',\n",
       " 'b',\n",
       " '@',\n",
       " 'f',\n",
       " 'p',\n",
       " ']',\n",
       " '=',\n",
       " 'j',\n",
       " 'Z',\n",
       " 't',\n",
       " '-',\n",
       " 'K',\n",
       " '{',\n",
       " 'O',\n",
       " 'v',\n",
       " 'L',\n",
       " 'r',\n",
       " '!']"
      ]
     },
     "execution_count": 162,
     "metadata": {},
     "output_type": "execute_result"
    }
   ],
   "source": [
    "ListUsed"
   ]
  },
  {
   "cell_type": "code",
   "execution_count": null,
   "metadata": {},
   "outputs": [],
   "source": []
  }
 ],
 "metadata": {
  "kernelspec": {
   "display_name": "Python 3",
   "language": "python",
   "name": "python3"
  },
  "language_info": {
   "codemirror_mode": {
    "name": "ipython",
    "version": 3
   },
   "file_extension": ".py",
   "mimetype": "text/x-python",
   "name": "python",
   "nbconvert_exporter": "python",
   "pygments_lexer": "ipython3",
   "version": "3.7.4"
  }
 },
 "nbformat": 4,
 "nbformat_minor": 2
}
