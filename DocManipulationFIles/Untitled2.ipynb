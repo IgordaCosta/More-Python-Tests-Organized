{
 "cells": [
  {
   "cell_type": "code",
   "execution_count": 1,
   "metadata": {},
   "outputs": [],
   "source": [
    "paragraphUsed = '''<p w14:paraId=\"6D12372B\" w14:textId=\"4A6B2B26\" w:rsidR=\"008C10EC\" w:rsidRPr=\"00E23948\" w:rsidRDefault=\"008C10EC\" w:rsidP=\"008C10EC\">\n",
    "    <pPr>\n",
    "        <jc w:val=\"center\" />\n",
    "        <rPr>\n",
    "            <rFonts w:ascii=\"Times New Roman\" w:hAnsi=\"Times New Roman\" w:cs=\"Times New Roman\" />\n",
    "            <b />\n",
    "            <bCs />\n",
    "            <sz w:val=\"32\" />\n",
    "            <szCs w:val=\"32\" />\n",
    "        </rPr>\n",
    "    </pPr>\n",
    "    <r w:rsidRPr=\"00E23948\">\n",
    "            <rPr>\n",
    "                <rFonts w:ascii=\"Times New Roman\" w:hAnsi=\"Times New Roman\" w:cs=\"Times New Roman\" />\n",
    "                <b />\n",
    "                <bCs />\n",
    "                <sz w:val=\"32\" />\n",
    "                <szCs w:val=\"32\" />\n",
    "            </rPr>\n",
    "        <t>\n",
    "            This is title Bold and Centered\n",
    "        </t>\n",
    "    </r>\n",
    "</p>'''"
   ]
  },
  {
   "cell_type": "code",
   "execution_count": 2,
   "metadata": {},
   "outputs": [
    {
     "name": "stdout",
     "output_type": "stream",
     "text": [
      "<p w14:paraId=\"6D12372B\" w14:textId=\"4A6B2B26\" w:rsidR=\"008C10EC\" w:rsidRPr=\"00E23948\" w:rsidRDefault=\"008C10EC\" w:rsidP=\"008C10EC\">\n",
      "    <pPr>\n",
      "        <jc w:val=\"center\" />\n",
      "        <rPr>\n",
      "            <rFonts w:ascii=\"Times New Roman\" w:hAnsi=\"Times New Roman\" w:cs=\"Times New Roman\" />\n",
      "            <b />\n",
      "            <bCs />\n",
      "            <sz w:val=\"32\" />\n",
      "            <szCs w:val=\"32\" />\n",
      "        </rPr>\n",
      "    </pPr>\n",
      "    <r w:rsidRPr=\"00E23948\">\n",
      "            <rPr>\n",
      "                <rFonts w:ascii=\"Times New Roman\" w:hAnsi=\"Times New Roman\" w:cs=\"Times New Roman\" />\n",
      "                <b />\n",
      "                <bCs />\n",
      "                <sz w:val=\"32\" />\n",
      "                <szCs w:val=\"32\" />\n",
      "            </rPr>\n",
      "        <t>\n",
      "            This is title Bold and Centered\n",
      "        </t>\n",
      "    </r>\n",
      "</p>\n"
     ]
    }
   ],
   "source": [
    "print(paragraphUsed)"
   ]
  },
  {
   "cell_type": "code",
   "execution_count": null,
   "metadata": {},
   "outputs": [],
   "source": [
    "\n",
    "\n",
    "\n",
    "\n",
    "\n",
    "\n"
   ]
  },
  {
   "cell_type": "code",
   "execution_count": null,
   "metadata": {},
   "outputs": [],
   "source": []
  }
 ],
 "metadata": {
  "kernelspec": {
   "display_name": "Python 3",
   "language": "python",
   "name": "python3"
  },
  "language_info": {
   "codemirror_mode": {
    "name": "ipython",
    "version": 3
   },
   "file_extension": ".py",
   "mimetype": "text/x-python",
   "name": "python",
   "nbconvert_exporter": "python",
   "pygments_lexer": "ipython3",
   "version": "3.7.4"
  }
 },
 "nbformat": 4,
 "nbformat_minor": 2
}
