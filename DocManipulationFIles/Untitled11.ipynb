{
 "cells": [
  {
   "cell_type": "code",
   "execution_count": 1,
   "metadata": {},
   "outputs": [
    {
     "name": "stdout",
     "output_type": "stream",
     "text": [
      "2\n",
      "16\n"
     ]
    }
   ],
   "source": [
    "AllTextY = 'PhŸone NuŸŸmbŸer:'\n",
    "\n",
    "text1 = 'Ph'\n",
    "\n",
    "inputText = ' ÇÇÇÇÇÇÇÇÇÇÇÇÇÇÇ'\n",
    "\n",
    "\n",
    "print(len(text1))\n",
    "\n",
    "\n",
    "print(len(inputText))\n",
    "\n"
   ]
  },
  {
   "cell_type": "code",
   "execution_count": 4,
   "metadata": {},
   "outputs": [
    {
     "name": "stdout",
     "output_type": "stream",
     "text": [
      "Ph ÇÇÇÇÇÇÇÇÇÇÇÇÇÇÇ\n"
     ]
    }
   ],
   "source": [
    "print(AllTextY[:2]+inputText)"
   ]
  },
  {
   "cell_type": "code",
   "execution_count": 5,
   "metadata": {},
   "outputs": [
    {
     "name": "stdout",
     "output_type": "stream",
     "text": [
      "18\n"
     ]
    }
   ],
   "source": [
    "print(len('Ph ÇÇÇÇÇÇÇÇÇÇÇÇÇÇÇ'))\n",
    "\n"
   ]
  },
  {
   "cell_type": "code",
   "execution_count": 6,
   "metadata": {},
   "outputs": [
    {
     "name": "stdout",
     "output_type": "stream",
     "text": [
      "Ph ÇÇÇÇÇÇÇÇÇÇÇÇÇÇÇone Nu\n"
     ]
    }
   ],
   "source": [
    "text2= 'Ph ÇÇÇÇÇÇÇÇÇÇÇÇÇÇÇ'+'one Nu'\n",
    "\n",
    "print(text2)"
   ]
  },
  {
   "cell_type": "code",
   "execution_count": 7,
   "metadata": {},
   "outputs": [
    {
     "data": {
      "text/plain": [
       "24"
      ]
     },
     "execution_count": 7,
     "metadata": {},
     "output_type": "execute_result"
    }
   ],
   "source": [
    "len(text2)"
   ]
  },
  {
   "cell_type": "code",
   "execution_count": 8,
   "metadata": {},
   "outputs": [
    {
     "name": "stdout",
     "output_type": "stream",
     "text": [
      "32\n"
     ]
    }
   ],
   "source": [
    "text3 = 'Ph ÇÇÇÇÇÇÇÇÇÇÇÇÇÇÇ' + 'one NuŸŸmbŸer:'\n",
    "print(len(text3))"
   ]
  },
  {
   "cell_type": "code",
   "execution_count": 12,
   "metadata": {},
   "outputs": [
    {
     "name": "stdout",
     "output_type": "stream",
     "text": [
      "Ph ÇÇÇÇÇÇÇÇÇÇÇÇÇÇÇone Nu ÇÇÇÇÇÇÇÇÇÇÇÇÇÇÇ\n",
      "40\n"
     ]
    }
   ],
   "source": [
    "print(text3[:24]+inputText)\n",
    "\n",
    "print(len(text3[:24]+inputText))"
   ]
  },
  {
   "cell_type": "code",
   "execution_count": 15,
   "metadata": {},
   "outputs": [
    {
     "name": "stdout",
     "output_type": "stream",
     "text": [
      "Ph ÇÇÇÇÇÇÇÇÇÇÇÇÇÇÇone Nu ÇÇÇÇÇÇÇÇÇÇÇÇÇÇÇ ÇÇÇÇÇÇÇÇÇÇÇÇÇÇÇ\n"
     ]
    }
   ],
   "source": [
    "print(text3[:24]+inputText[:40]+inputText)"
   ]
  },
  {
   "cell_type": "code",
   "execution_count": 16,
   "metadata": {},
   "outputs": [
    {
     "name": "stdout",
     "output_type": "stream",
     "text": [
      "Ph ÇÇÇÇÇÇÇÇÇÇÇÇÇÇÇone Nu ÇÇÇÇÇÇÇÇÇÇÇÇÇÇÇ ÇÇÇÇÇÇÇÇÇÇÇÇÇÇÇmbŸer:\n"
     ]
    }
   ],
   "source": [
    "print(text3[:24]+inputText[:40]+inputText+'mbŸer:')"
   ]
  },
  {
   "cell_type": "code",
   "execution_count": 18,
   "metadata": {},
   "outputs": [
    {
     "name": "stdout",
     "output_type": "stream",
     "text": [
      "23\n"
     ]
    }
   ],
   "source": [
    "print(len('Ph ÇÇÇÇÇÇÇÇÇÇÇÇÇÇÇone N'))"
   ]
  },
  {
   "cell_type": "code",
   "execution_count": 19,
   "metadata": {},
   "outputs": [
    {
     "name": "stdout",
     "output_type": "stream",
     "text": [
      "16\n"
     ]
    }
   ],
   "source": [
    "print(len(' ÇÇÇÇÇÇÇÇÇÇÇÇÇÇÇ'))"
   ]
  },
  {
   "cell_type": "code",
   "execution_count": 20,
   "metadata": {},
   "outputs": [
    {
     "name": "stdout",
     "output_type": "stream",
     "text": [
      "25\n"
     ]
    }
   ],
   "source": [
    "print(9+16)"
   ]
  },
  {
   "cell_type": "code",
   "execution_count": null,
   "metadata": {},
   "outputs": [],
   "source": []
  }
 ],
 "metadata": {
  "kernelspec": {
   "display_name": "Python 3",
   "language": "python",
   "name": "python3"
  },
  "language_info": {
   "codemirror_mode": {
    "name": "ipython",
    "version": 3
   },
   "file_extension": ".py",
   "mimetype": "text/x-python",
   "name": "python",
   "nbconvert_exporter": "python",
   "pygments_lexer": "ipython3",
   "version": "3.7.4"
  }
 },
 "nbformat": 4,
 "nbformat_minor": 2
}
