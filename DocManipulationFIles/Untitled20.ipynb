{
 "cells": [
  {
   "cell_type": "code",
   "execution_count": 3,
   "metadata": {},
   "outputs": [
    {
     "name": "stdout",
     "output_type": "stream",
     "text": [
      "4\n"
     ]
    }
   ],
   "source": [
    "stringChecked = ' car'\n",
    "\n",
    "print(len(stringChecked))"
   ]
  },
  {
   "cell_type": "code",
   "execution_count": 4,
   "metadata": {},
   "outputs": [],
   "source": [
    "# this is to get the original text data information\n",
    "\n",
    "##### this is all the steps to get the page general settings\n",
    "\n",
    "from docx import Document\n",
    "\n",
    "from bs4 import BeautifulSoup\n",
    "\n",
    "import pprint\n",
    "\n",
    "\n",
    "\n",
    "def getParagraphData(Location, DocumentName):\n",
    "\n",
    "    LocOriginalDocument = Location + DocumentName\n",
    "\n",
    "    document = Document(LocOriginalDocument)\n",
    "\n",
    "    item = document.element.xml\n",
    "\n",
    "    soup = BeautifulSoup(item)\n",
    "\n",
    "\n",
    "    responseFind = soup.find('w:sectpr')\n",
    "\n",
    "    sectData = str(responseFind)\n",
    "\n",
    "    responseFind2 = soup.find('w:body').findChildren('w:p', recursive=False)\n",
    "\n",
    "    PprParagraphList= []\n",
    "    WrParagraphList= []\n",
    "    for i in responseFind2:\n",
    "\n",
    "        ppr = i.find_all('w:ppr')    \n",
    "        PprParagraphList.append(ppr)\n",
    "\n",
    "        Wr = i.find_all('w:r')    \n",
    "        if Wr == []:\n",
    "            pass\n",
    "\n",
    "        else:   \n",
    "            WrParagraphList.append(Wr)\n",
    "\n",
    "\n",
    "    return WrParagraphList, PprParagraphList, sectData"
   ]
  },
  {
   "cell_type": "code",
   "execution_count": 5,
   "metadata": {},
   "outputs": [],
   "source": [
    "OriginalDocument = 'DifferentLineText6Changed.docx'\n",
    "\n",
    "Location = r'C:\\Users\\IgorDC\\Desktop\\PydocTest' + '\\\\'\n",
    "\n",
    "\n",
    "Location = r'C:\\Users\\IgorDC\\Desktop\\PydocTest' + '\\\\'\n",
    "DocumentName = 'DifferentLineText6Changed.docx'\n",
    "\n",
    "\n",
    "Location2 = r'C:\\Users\\IgorDC\\Desktop\\PydocTest' + '\\\\'\n",
    "DocumentName2 = 'DifferentLineText6.docx'\n",
    "\n",
    "\n",
    "\n",
    "\n",
    "WrParagraphList, PprParagraphList, sectData = getParagraphData(Location, DocumentName)\n",
    "\n",
    "\n",
    "Location = Location2\n",
    "DocumentName = DocumentName2 \n",
    "\n",
    "\n",
    "WrParagraphList2, PprParagraphList2, sectData2 = getParagraphData(Location, DocumentName)"
   ]
  },
  {
   "cell_type": "code",
   "execution_count": 6,
   "metadata": {},
   "outputs": [],
   "source": [
    "    \n",
    "    \n",
    "def getwtValueList(WrParagraphList):\n",
    "    \n",
    "    wtValueListText = ''\n",
    "    wtValueList = []\n",
    "    for Paragraph in WrParagraphList:\n",
    "\n",
    "        for item in Paragraph:\n",
    "\n",
    "            wtValue = item.find('w:t')\n",
    "\n",
    "            if wtValue == None:\n",
    "                wtValue = ''\n",
    "            else:\n",
    "                pass\n",
    "\n",
    "            wtValueList.append(wtValue.text)\n",
    "            wtValueListText = wtValueListText + wtValue.text\n",
    "    \n",
    "    ValueInText = False\n",
    "    if 'Ÿ' in wtValueListText:\n",
    "        ValueInText = True\n",
    "\n",
    "    wtValueListText = wtValueListText.replace(\" Ÿ\", \"\")\n",
    "    wtValueListText = wtValueListText.replace(\"Ÿ\", \"\")\n",
    "\n",
    "    \n",
    "    return wtValueList , wtValueListText, ValueInText"
   ]
  },
  {
   "cell_type": "code",
   "execution_count": 7,
   "metadata": {},
   "outputs": [],
   "source": [
    "\n",
    "\n",
    "wtValueList , wtValueListText, ValueInText = getwtValueList(WrParagraphList)\n",
    "\n",
    "\n",
    "\n",
    "\n",
    "\n",
    "wtValueList2 , wtValueListText2, ValueInText2 = getwtValueList(WrParagraphList2)"
   ]
  },
  {
   "cell_type": "code",
   "execution_count": 8,
   "metadata": {},
   "outputs": [
    {
     "name": "stdout",
     "output_type": "stream",
     "text": [
      "wtValueList: \n",
      "['This is',\n",
      " ' Ÿ',\n",
      " ' part 1, ',\n",
      " 'This',\n",
      " ' Ÿ',\n",
      " ' is part 2, ',\n",
      " 'Part',\n",
      " ' Ÿ',\n",
      " '3, ',\n",
      " 'Par',\n",
      " ' ',\n",
      " 'Ÿ',\n",
      " 't',\n",
      " ' 4.',\n",
      " 'This is the new',\n",
      " ' Ÿ',\n",
      " ' Paragraph']\n",
      "....................\n",
      "wtValueListText: \n",
      "'This is part 1, This is part 2, Part3, Part 4.This is the new Paragraph'\n",
      "....................\n",
      "ValueInText: \n",
      "True\n",
      "===============================\n",
      "wtValueList2: \n",
      "['This is part 1, ',\n",
      " 'This is part 2, ',\n",
      " 'Part3, ',\n",
      " 'Part 4.',\n",
      " 'This is the new Paragraph']\n",
      "....................\n",
      "wtValueListText2: \n",
      "'This is part 1, This is part 2, Part3, Part 4.This is the new Paragraph'\n",
      "....................\n",
      "ValueInText2: \n",
      "False\n"
     ]
    }
   ],
   "source": [
    "\n",
    "\n",
    "print('wtValueList: ') \n",
    "pprint.pprint(wtValueList)\n",
    "\n",
    "\n",
    "print('....................')\n",
    "print('wtValueListText: ') \n",
    "pprint.pprint(wtValueListText)\n",
    "\n",
    "print('....................')\n",
    "print('ValueInText: ')\n",
    "pprint.pprint(ValueInText)\n",
    "\n",
    "print('===============================')\n",
    "print('wtValueList2: ')\n",
    "pprint.pprint(wtValueList2)\n",
    "\n",
    "print('....................')\n",
    "print('wtValueListText2: ') \n",
    "pprint.pprint(wtValueListText2)\n",
    "\n",
    "print('....................')\n",
    "print('ValueInText2: ')\n",
    "pprint.pprint(ValueInText2)"
   ]
  },
  {
   "cell_type": "code",
   "execution_count": 9,
   "metadata": {},
   "outputs": [],
   "source": [
    "def OrderCorrectlyWtValues(wtValueList, wtValueList2):\n",
    "\n",
    "    if str(wtValueList) == str(wtValueList2):\n",
    "#         print(\"they are equal\")\n",
    "\n",
    "        checkValue = '2'\n",
    "        valueForFunction = wtValueList\n",
    "        valueForFunctionLess = wtValueList2\n",
    "\n",
    "    else:\n",
    "        checkValue='-1'\n",
    "        if len(wtValueList)> len(wtValueList2):\n",
    "#             print('wtValueList is greater')\n",
    "\n",
    "            checkValue = '0'\n",
    "            valueForFunction = wtValueList\n",
    "            valueForFunctionLess = wtValueList2\n",
    "        else:\n",
    "#             print('wtValueList2 is greater')\n",
    "\n",
    "            checkValue = '1'\n",
    "            valueForFunction = wtValueList2\n",
    "            valueForFunctionLess = wtValueList\n",
    "\n",
    "    return checkValue, valueForFunction , valueForFunctionLess"
   ]
  },
  {
   "cell_type": "code",
   "execution_count": 10,
   "metadata": {},
   "outputs": [],
   "source": [
    "checkValue, valueForFunction , valueForFunctionLess = OrderCorrectlyWtValues(wtValueList, wtValueList2)"
   ]
  },
  {
   "cell_type": "code",
   "execution_count": 11,
   "metadata": {},
   "outputs": [
    {
     "name": "stdout",
     "output_type": "stream",
     "text": [
      "checkValue: \n",
      "'0'\n",
      "...................\n",
      "valueForFunction: \n",
      "['This is',\n",
      " ' Ÿ',\n",
      " ' part 1, ',\n",
      " 'This',\n",
      " ' Ÿ',\n",
      " ' is part 2, ',\n",
      " 'Part',\n",
      " ' Ÿ',\n",
      " '3, ',\n",
      " 'Par',\n",
      " ' ',\n",
      " 'Ÿ',\n",
      " 't',\n",
      " ' 4.',\n",
      " 'This is the new',\n",
      " ' Ÿ',\n",
      " ' Paragraph']\n",
      "...................\n",
      "valueForFunctionLess: \n",
      "['This is part 1, ',\n",
      " 'This is part 2, ',\n",
      " 'Part3, ',\n",
      " 'Part 4.',\n",
      " 'This is the new Paragraph']\n"
     ]
    }
   ],
   "source": [
    "print('checkValue: ')\n",
    "pprint.pprint(checkValue)\n",
    "\n",
    "print('...................')\n",
    "print('valueForFunction: ')\n",
    "pprint.pprint(valueForFunction)\n",
    "\n",
    "print('...................')\n",
    "print('valueForFunctionLess: ')\n",
    "pprint.pprint(valueForFunctionLess)"
   ]
  },
  {
   "cell_type": "code",
   "execution_count": 15,
   "metadata": {},
   "outputs": [],
   "source": [
    "####### this lists (bellow) are supposed to break the location of each sentence so it is working as it should (ending)\n",
    "# [2, 5, 8, 13, 16]"
   ]
  },
  {
   "cell_type": "code",
   "execution_count": 16,
   "metadata": {},
   "outputs": [],
   "source": [
    "def getStartSentecePartList(valueForFunctionLess, valueForFunction):\n",
    "\n",
    "    StartSentecePartList = []\n",
    "    StartSentecePart = -1\n",
    "    NumberOfSentecePartsList = []\n",
    "    \n",
    "    for i in range(len(valueForFunctionLess)):\n",
    "        item = valueForFunctionLess[i]\n",
    "\n",
    "        startLetterLocation = -1    \n",
    "        for l in range(len(item)):\n",
    "            letter = item[l]\n",
    "\n",
    "            breakHappend = False\n",
    "            for x in range(StartSentecePart, len(valueForFunction)):\n",
    "\n",
    "                if breakHappend:\n",
    "                    break\n",
    "\n",
    "                senteceTocheck = valueForFunction[x]            \n",
    "\n",
    "                for z in range(startLetterLocation , len(senteceTocheck)):\n",
    "\n",
    "                    if breakHappend:\n",
    "                        break                    \n",
    "\n",
    "                    startLetterLocation  = startLetterLocation  + 1\n",
    "\n",
    "                    leterToCheck = senteceTocheck[z]\n",
    "\n",
    "                    if z == len(senteceTocheck) -1 :\n",
    "                        startLetterLocation = -1\n",
    "                        StartSentecePart = StartSentecePart + 1\n",
    "\n",
    "                    if leterToCheck == letter:                   \n",
    "                        NumberOfSentecePartsList.append(StartSentecePart)                \n",
    "                        breakHappend = True\n",
    "                        break\n",
    "\n",
    "\n",
    "        StartSentecePartList.append(StartSentecePart - 1)     \n",
    "\n",
    "        \n",
    "    return StartSentecePartList"
   ]
  },
  {
   "cell_type": "code",
   "execution_count": 17,
   "metadata": {},
   "outputs": [],
   "source": [
    "StartSentecePartList = getStartSentecePartList(valueForFunctionLess, valueForFunction)"
   ]
  },
  {
   "cell_type": "code",
   "execution_count": 18,
   "metadata": {},
   "outputs": [
    {
     "name": "stdout",
     "output_type": "stream",
     "text": [
      "StartSentecePartList: \n",
      "[2, 5, 8, 13, 16]\n"
     ]
    }
   ],
   "source": [
    "print('StartSentecePartList: ')\n",
    "print(StartSentecePartList)"
   ]
  },
  {
   "cell_type": "code",
   "execution_count": 19,
   "metadata": {},
   "outputs": [],
   "source": [
    "def getRangeChangeList(StartSentecePartList):\n",
    "    \n",
    "    RangeList = []\n",
    "    for i in range(len(StartSentecePartList)):\n",
    "\n",
    "        HigherRange = StartSentecePartList[i] \n",
    "\n",
    "        if i == 0:\n",
    "            LowerRange = 0\n",
    "        else:\n",
    "            LowerRange = StartSentecePartList[i-1] +1\n",
    "\n",
    "        RangeItem = [LowerRange, HigherRange]\n",
    "\n",
    "        RangeList.append(RangeItem)\n",
    "\n",
    "\n",
    "    return RangeList"
   ]
  },
  {
   "cell_type": "code",
   "execution_count": 20,
   "metadata": {},
   "outputs": [],
   "source": [
    "RangeList = getRangeChangeList(StartSentecePartList)"
   ]
  },
  {
   "cell_type": "code",
   "execution_count": 21,
   "metadata": {},
   "outputs": [
    {
     "data": {
      "text/plain": [
       "[[0, 2], [3, 5], [6, 8], [9, 13], [14, 16]]"
      ]
     },
     "execution_count": 21,
     "metadata": {},
     "output_type": "execute_result"
    }
   ],
   "source": [
    "RangeList"
   ]
  },
  {
   "cell_type": "code",
   "execution_count": 22,
   "metadata": {},
   "outputs": [],
   "source": [
    "\n",
    "######## this is for checking if the words even though having a controlled additin were not altered by things like \n",
    "######## if its bold or italic or underlined, etc.\n",
    "\n",
    "\n",
    "def CheckforItalicBoldAlteration(RangeList, WrParagraphList):\n",
    "       \n",
    "    rprItemList = []\n",
    "    for x in range(len(WrParagraphList)):\n",
    "        checkedItem = WrParagraphList[x]\n",
    "\n",
    "        for t in range(len(checkedItem)):\n",
    "            checkedItemPart = checkedItem[t]\n",
    "            rprItem = checkedItemPart.find('w:rpr')\n",
    "            rprItemList.append(rprItem)\n",
    "        \n",
    "\n",
    "    NotTheSame = False\n",
    "    for i in range(len(RangeList)):\n",
    "\n",
    "        if NotTheSame:\n",
    "            break\n",
    "\n",
    "        rangeListItem = RangeList[i]\n",
    "\n",
    "        for i in range(rangeListItem[0], rangeListItem[1] + 1 ):\n",
    "            if rangeListItem[0] == i:\n",
    "                compareItem = rprItemList[i]\n",
    "                \n",
    "            else:\n",
    "                if str(compareItem) == str(rprItemList[i]):\n",
    "                    pass\n",
    "                \n",
    "                else:\n",
    "                    NotTheSame = True\n",
    "                    break\n",
    "\n",
    "    if NotTheSame:\n",
    "        return 'NOTtheSame'\n",
    "\n",
    "    else:\n",
    "        return 'SameValues'"
   ]
  },
  {
   "cell_type": "code",
   "execution_count": 23,
   "metadata": {},
   "outputs": [],
   "source": [
    " IsSame = CheckforItalicBoldAlteration(RangeList, WrParagraphList)"
   ]
  },
  {
   "cell_type": "code",
   "execution_count": 24,
   "metadata": {},
   "outputs": [
    {
     "data": {
      "text/plain": [
       "'SameValues'"
      ]
     },
     "execution_count": 24,
     "metadata": {},
     "output_type": "execute_result"
    }
   ],
   "source": [
    "IsSame"
   ]
  },
  {
   "cell_type": "code",
   "execution_count": null,
   "metadata": {},
   "outputs": [],
   "source": []
  }
 ],
 "metadata": {
  "kernelspec": {
   "display_name": "Python 3",
   "language": "python",
   "name": "python3"
  },
  "language_info": {
   "codemirror_mode": {
    "name": "ipython",
    "version": 3
   },
   "file_extension": ".py",
   "mimetype": "text/x-python",
   "name": "python",
   "nbconvert_exporter": "python",
   "pygments_lexer": "ipython3",
   "version": "3.7.4"
  }
 },
 "nbformat": 4,
 "nbformat_minor": 2
}
