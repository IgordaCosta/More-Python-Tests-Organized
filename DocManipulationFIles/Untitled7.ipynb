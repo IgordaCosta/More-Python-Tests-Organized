{
 "cells": [
  {
   "cell_type": "code",
   "execution_count": 1,
   "metadata": {},
   "outputs": [
    {
     "name": "stdout",
     "output_type": "stream",
     "text": [
      "136\n"
     ]
    }
   ],
   "source": [
    "text = '[AAA Photography Studios Ÿ], located at [Address Ÿ], agrees to provide Ÿ wedding photography services Ÿ to the client(s) listed Ÿ below.'\n",
    "\n",
    "print(len(text))"
   ]
  },
  {
   "cell_type": "code",
   "execution_count": 25,
   "metadata": {},
   "outputs": [
    {
     "name": "stdout",
     "output_type": "stream",
     "text": [
      "53\n"
     ]
    }
   ],
   "source": [
    "text0 = '['\n",
    "\n",
    "print(len(text))"
   ]
  },
  {
   "cell_type": "code",
   "execution_count": 26,
   "metadata": {},
   "outputs": [
    {
     "name": "stdout",
     "output_type": "stream",
     "text": [
      "before addding value:      53\n",
      "after addding value 16:       69\n",
      "after addding value 1:       54\n"
     ]
    }
   ],
   "source": [
    "text1 = 'AAA Photography Studios '\n",
    "\n",
    "print('before addding value:      ' + str(len(text)))\n",
    "\n",
    "print('after addding value 16:       ' + str(len(text)+16))\n",
    "\n",
    "print('after addding value 1:       ' + str(len(text)+1))"
   ]
  },
  {
   "cell_type": "code",
   "execution_count": 27,
   "metadata": {},
   "outputs": [
    {
     "name": "stdout",
     "output_type": "stream",
     "text": [
      "before addding value:      53\n",
      "after addding value 16:       69\n",
      "after addding value 1:       54\n"
     ]
    }
   ],
   "source": [
    "text2 = '], located at [Address '\n",
    "\n",
    "print('before addding value:      ' + str(len(text)))\n",
    "\n",
    "print('after addding value 16:       ' + str(len(text)+16))\n",
    "\n",
    "print('after addding value 1:       ' + str(len(text)+1))"
   ]
  },
  {
   "cell_type": "code",
   "execution_count": 37,
   "metadata": {},
   "outputs": [
    {
     "name": "stdout",
     "output_type": "stream",
     "text": [
      "before addding value:      53\n",
      "after addding value 16:       69\n",
      "after addding value 1:       54\n"
     ]
    }
   ],
   "source": [
    "text3 = '], agrees to provide '\n",
    "text4 = ' wedding photography services '\n",
    "\n",
    "text5 = ' to the client(s) listed '\n",
    "text6 = ' below.'\n",
    "\n",
    "\n",
    "print('before addding value:      ' + str(len(text)))\n",
    "\n",
    "print('after addding value 16:       ' + str(len(text)+16))\n",
    "\n",
    "print('after addding value 1:       ' + str(len(text)+1))"
   ]
  },
  {
   "cell_type": "code",
   "execution_count": 44,
   "metadata": {},
   "outputs": [
    {
     "name": "stdout",
     "output_type": "stream",
     "text": [
      "1\n",
      "24\n",
      "23\n",
      "21\n",
      "30\n",
      "25\n",
      "7\n",
      "+0================================\n",
      "1\n",
      "25\n",
      "48\n",
      "69\n",
      "99\n",
      "124\n",
      "131\n",
      "+1================================\n",
      "1\n",
      "26\n",
      "49\n",
      "70\n",
      "100\n",
      "125\n",
      "132\n",
      "+15================================\n",
      "1\n",
      "40\n",
      "63\n",
      "84\n",
      "114\n",
      "139\n",
      "146\n",
      "Original=========================\n",
      "1\n",
      "25\n",
      "49\n",
      "71\n",
      "102\n",
      "128\n"
     ]
    }
   ],
   "source": [
    "lentext0 = len(text0)\n",
    "lentext1 = len(text1)\n",
    "lentext2 = len(text2)\n",
    "lentext3 = len(text3)\n",
    "lentext4 = len(text4)\n",
    "lentext5 = len(text5)\n",
    "lentext6 = len(text6)\n",
    "\n",
    "print(lentext0)\n",
    "\n",
    "print(lentext1)\n",
    "\n",
    "print(lentext2)\n",
    "\n",
    "print(lentext3)\n",
    "\n",
    "print(lentext4)\n",
    "\n",
    "print(lentext5)\n",
    "\n",
    "print(lentext6)\n",
    "\n",
    "print('+0================================')\n",
    "\n",
    "print(lentext0)\n",
    "\n",
    "print(lentext0+lentext1)\n",
    "\n",
    "print(lentext0+lentext1+lentext2)\n",
    "\n",
    "print(lentext0+lentext1+lentext2+lentext3)\n",
    "print(lentext0+lentext1+lentext2+lentext3+lentext4)\n",
    "print(lentext0+lentext1+lentext2+lentext3+lentext4+lentext5)\n",
    "print(lentext0+lentext1+lentext2+lentext3+lentext4+lentext5+lentext6)\n",
    "\n",
    "print('+1================================')\n",
    "\n",
    "print(lentext0)\n",
    "\n",
    "print(lentext0+lentext1+1)\n",
    "\n",
    "print(lentext0+lentext1+lentext2+1)\n",
    "\n",
    "print(lentext0+lentext1+lentext2+lentext3+1)\n",
    "\n",
    "print(lentext0+lentext1+lentext2+lentext3+lentext4+1)\n",
    "print(lentext0+lentext1+lentext2+lentext3+lentext4+lentext5+1)\n",
    "print(lentext0+lentext1+lentext2+lentext3+lentext4+lentext5+lentext6+1)\n",
    "\n",
    "print('+15================================')\n",
    "\n",
    "print(lentext0)\n",
    "\n",
    "print(lentext0+lentext1+15)\n",
    "\n",
    "print(lentext0+lentext1+lentext2+15)\n",
    "\n",
    "print(lentext0+lentext1+lentext2+lentext3+15)\n",
    "\n",
    "print(lentext0+lentext1+lentext2+lentext3+lentext4+15)\n",
    "print(lentext0+lentext1+lentext2+lentext3+lentext4+lentext5+15)\n",
    "print(lentext0+lentext1+lentext2+lentext3+lentext4+lentext5+lentext6+15)\n",
    "\n",
    "print('Original=========================')\n",
    "\n",
    "value =['25', '49', '71', '102', '128']\n",
    "\n",
    "print('1')\n",
    "print(value[0])\n",
    "print(str(value[1])+str(''))\n",
    "print(str(value[2])+str(''))\n",
    "print(str(value[3])+str(''))\n",
    "print(str(value[4])+str(''))\n",
    "\n"
   ]
  },
  {
   "cell_type": "code",
   "execution_count": 8,
   "metadata": {},
   "outputs": [
    {
     "name": "stdout",
     "output_type": "stream",
     "text": [
      "16\n"
     ]
    }
   ],
   "source": [
    "ToAddValue = \" \"+\"ÇÇÇÇÇÇÇÇÇÇÇÇÇÇÇ\"\n",
    "\n",
    "print(len(ToAddValue))"
   ]
  },
  {
   "cell_type": "code",
   "execution_count": null,
   "metadata": {},
   "outputs": [],
   "source": [
    "\n",
    "\n",
    "[AAA Photography Studios Ÿ], located at [Address Ÿ], agrees to provide Ÿ wedding photography services Ÿ to the client(s) listed Ÿ below.\n",
    "\n",
    "\n",
    "\n",
    "\n",
    "\n",
    "\n",
    "[AAA Photography Studios  ÇÇÇÇÇÇÇÇÇÇÇÇÇÇÇ], located at [Address  ÇÇÇÇÇÇÇÇÇÇÇÇÇÇÇ], agrees to provide  ÇÇÇÇÇÇÇÇÇÇÇÇÇÇÇ wedding photography services  ÇÇÇÇÇÇÇÇÇÇÇÇÇÇÇ to the client(s) listed  ÇÇÇÇÇÇÇÇÇÇÇÇÇÇÇ below."
   ]
  },
  {
   "cell_type": "code",
   "execution_count": 54,
   "metadata": {},
   "outputs": [
    {
     "name": "stdout",
     "output_type": "stream",
     "text": [
      "24\n"
     ]
    }
   ],
   "source": [
    "value = '[AAA Photography Studios '\n",
    "\n",
    "\n",
    "print(len(value)-1)\n",
    "\n",
    "oldval1 = len(value)-1"
   ]
  },
  {
   "cell_type": "code",
   "execution_count": 55,
   "metadata": {},
   "outputs": [
    {
     "name": "stdout",
     "output_type": "stream",
     "text": [
      "48\n"
     ]
    }
   ],
   "source": [
    "value = '[AAA Photography Studios Ÿ], located at [Address '\n",
    "\n",
    "\n",
    "print(len(value)-1)\n",
    "\n",
    "oldval2 = len(value) -1"
   ]
  },
  {
   "cell_type": "code",
   "execution_count": 56,
   "metadata": {},
   "outputs": [
    {
     "name": "stdout",
     "output_type": "stream",
     "text": [
      "70\n"
     ]
    }
   ],
   "source": [
    "value = '[AAA Photography Studios Ÿ], located at [Address Ÿ], agrees to provide '\n",
    "\n",
    "\n",
    "print(len(value)-1)\n",
    "\n",
    "oldval3 = len(value)-1"
   ]
  },
  {
   "cell_type": "code",
   "execution_count": 57,
   "metadata": {},
   "outputs": [
    {
     "name": "stdout",
     "output_type": "stream",
     "text": [
      "101\n"
     ]
    }
   ],
   "source": [
    "value = '[AAA Photography Studios Ÿ], located at [Address Ÿ], agrees to provide Ÿ wedding photography services '\n",
    "\n",
    "\n",
    "print(len(value)-1)\n",
    "\n",
    "oldval4 = len(value)-1"
   ]
  },
  {
   "cell_type": "code",
   "execution_count": 58,
   "metadata": {},
   "outputs": [
    {
     "name": "stdout",
     "output_type": "stream",
     "text": [
      "127\n"
     ]
    }
   ],
   "source": [
    "value = '[AAA Photography Studios Ÿ], located at [Address Ÿ], agrees to provide Ÿ wedding photography services Ÿ to the client(s) listed '\n",
    "\n",
    "\n",
    "print(len(value)-1)\n",
    "\n",
    "oldval5 = len(value)-1"
   ]
  },
  {
   "cell_type": "code",
   "execution_count": 66,
   "metadata": {},
   "outputs": [
    {
     "name": "stdout",
     "output_type": "stream",
     "text": [
      "24\n"
     ]
    }
   ],
   "source": [
    "######### this starts with the added values\n",
    "\n",
    "\n",
    "value = '[AAA Photography Studios '\n",
    "\n",
    "\n",
    "print(len(value)-1)\n",
    "\n",
    "newval1 = len(value)-1"
   ]
  },
  {
   "cell_type": "code",
   "execution_count": 67,
   "metadata": {},
   "outputs": [
    {
     "name": "stdout",
     "output_type": "stream",
     "text": [
      "63\n"
     ]
    }
   ],
   "source": [
    "value = '[AAA Photography Studios  ÇÇÇÇÇÇÇÇÇÇÇÇÇÇÇ], located at [Address '\n",
    "\n",
    "\n",
    "print(len(value)-1)\n",
    "\n",
    "newval2 = len(value)-1"
   ]
  },
  {
   "cell_type": "code",
   "execution_count": 68,
   "metadata": {},
   "outputs": [
    {
     "name": "stdout",
     "output_type": "stream",
     "text": [
      "100\n"
     ]
    }
   ],
   "source": [
    "value = '[AAA Photography Studios  ÇÇÇÇÇÇÇÇÇÇÇÇÇÇÇ], located at [Address  ÇÇÇÇÇÇÇÇÇÇÇÇÇÇÇ], agrees to provide '\n",
    "\n",
    "\n",
    "print(len(value)-1)\n",
    "\n",
    "newval3 = len(value)-1"
   ]
  },
  {
   "cell_type": "code",
   "execution_count": 69,
   "metadata": {},
   "outputs": [
    {
     "name": "stdout",
     "output_type": "stream",
     "text": [
      "146\n"
     ]
    }
   ],
   "source": [
    "value = '[AAA Photography Studios  ÇÇÇÇÇÇÇÇÇÇÇÇÇÇÇ], located at [Address  ÇÇÇÇÇÇÇÇÇÇÇÇÇÇÇ], agrees to provide  ÇÇÇÇÇÇÇÇÇÇÇÇÇÇÇ wedding photography services '\n",
    "\n",
    "\n",
    "print(len(value)-1)\n",
    "\n",
    "newval4 = len(value)-1"
   ]
  },
  {
   "cell_type": "code",
   "execution_count": 70,
   "metadata": {},
   "outputs": [
    {
     "name": "stdout",
     "output_type": "stream",
     "text": [
      "187\n"
     ]
    }
   ],
   "source": [
    "value = '[AAA Photography Studios  ÇÇÇÇÇÇÇÇÇÇÇÇÇÇÇ], located at [Address  ÇÇÇÇÇÇÇÇÇÇÇÇÇÇÇ], agrees to provide  ÇÇÇÇÇÇÇÇÇÇÇÇÇÇÇ wedding photography services  ÇÇÇÇÇÇÇÇÇÇÇÇÇÇÇ to the client(s) listed '\n",
    "\n",
    "\n",
    "print(len(value)-1)\n",
    "\n",
    "newval5 = len(value)-1"
   ]
  },
  {
   "cell_type": "code",
   "execution_count": 74,
   "metadata": {},
   "outputs": [
    {
     "name": "stdout",
     "output_type": "stream",
     "text": [
      "old vals: 24,   48,   70,   101,   127\n",
      "new vals: 24,   63,   100,   146,   187\n",
      "actual value received as input: 25     49     71        102     128     \n"
     ]
    }
   ],
   "source": [
    "\n",
    "print('old vals: '+ str(oldval1)+',   '+ str(oldval2)+',   '+ str(oldval3)+',   '+ str(oldval4)+',   '+ str(oldval5))\n",
    "\n",
    "print('new vals: '+ str(newval1)+',   '+ str(newval2)+',   '+ str(newval3)+',   '+ str(newval4)+',   '+ str(newval5))\n",
    "\n",
    "print('actual value received as input: '+ '25    ', '49    ', '71       ', '102    ', '128     ')\n"
   ]
  },
  {
   "cell_type": "code",
   "execution_count": 72,
   "metadata": {},
   "outputs": [
    {
     "name": "stdout",
     "output_type": "stream",
     "text": [
      "0\n",
      "15\n",
      "30\n",
      "45\n",
      "60\n"
     ]
    }
   ],
   "source": [
    "print(str(newval1-oldval1))\n",
    "print(str(newval2-oldval2))\n",
    "print(str(newval3-oldval3))\n",
    "print(str(newval4-oldval4))\n",
    "print(str(newval5-oldval5))"
   ]
  },
  {
   "cell_type": "code",
   "execution_count": 73,
   "metadata": {},
   "outputs": [],
   "source": [
    "###### from the values one can see that since when getting the locations for each value the initiated position\n",
    "###### is 0, one must also consider this when getting the len values to place the location\n",
    "###### len for a starting value (single letter) is 1 and not 0 thus when transforming the len value\n",
    "###### into a positional value one must deduct one unit (-1) \n",
    "\n",
    "\n",
    "###### with that into notice for every new added value the new difference is a multiple of 15\n",
    "###### this can be calculated by 16 (input word size) - 1(word being removed size)  = 15 (result word difference size)\n",
    "\n",
    "###### by each added word this result difference size is multiplied by such\n",
    "\n",
    "###### ========================================================\n",
    "###### from the actual value received as input into the new val is actual\n",
    "###### value -1(len value to count value conversion) + \n",
    "###### + ((+16 (new word count) -1 (removed word count)) * range from 0 to number of changes per paragraph)\n",
    "###### ========================================================"
   ]
  },
  {
   "cell_type": "code",
   "execution_count": 75,
   "metadata": {},
   "outputs": [
    {
     "name": "stdout",
     "output_type": "stream",
     "text": [
      "123\n"
     ]
    }
   ],
   "source": [
    "wholeText = 'In addition to the above poses, the photographer will capture additional shots of the wedding day festivities as they occur Ÿ, up to a total of 125 photography shots at Venue #1.'\n",
    "\n",
    "\n",
    "value = 'In addition to the above poses, the photographer will capture additional shots of the wedding day festivities as they occur '\n",
    "\n",
    "\n",
    "print(len(value)-1)\n",
    "\n",
    "oldp2val1 = len(value)-1"
   ]
  },
  {
   "cell_type": "code",
   "execution_count": 76,
   "metadata": {},
   "outputs": [
    {
     "name": "stdout",
     "output_type": "stream",
     "text": [
      "83\n"
     ]
    }
   ],
   "source": [
    "wholetext = 'The payment for photography services, including up to 150 printed photographs is $[ Ÿ ________].'\n",
    "\n",
    "value = 'The payment for photography services, including up to 150 printed photographs is $[ '\n",
    "\n",
    "print(len(value)-1)\n",
    "\n",
    "oldp3val1 = len(value)-1"
   ]
  },
  {
   "cell_type": "code",
   "execution_count": null,
   "metadata": {},
   "outputs": [],
   "source": []
  }
 ],
 "metadata": {
  "kernelspec": {
   "display_name": "Python 3",
   "language": "python",
   "name": "python3"
  },
  "language_info": {
   "codemirror_mode": {
    "name": "ipython",
    "version": 3
   },
   "file_extension": ".py",
   "mimetype": "text/x-python",
   "name": "python",
   "nbconvert_exporter": "python",
   "pygments_lexer": "ipython3",
   "version": "3.7.4"
  }
 },
 "nbformat": 4,
 "nbformat_minor": 2
}
