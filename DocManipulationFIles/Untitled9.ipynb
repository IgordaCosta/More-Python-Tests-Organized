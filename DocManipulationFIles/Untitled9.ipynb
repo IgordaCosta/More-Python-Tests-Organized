{
 "cells": [
  {
   "cell_type": "code",
   "execution_count": 28,
   "metadata": {},
   "outputs": [
    {
     "name": "stdout",
     "output_type": "stream",
     "text": [
      "1\n"
     ]
    }
   ],
   "source": [
    "value = '['\n",
    "\n",
    "\n",
    "\n",
    "print(len(value))"
   ]
  },
  {
   "cell_type": "code",
   "execution_count": null,
   "metadata": {},
   "outputs": [],
   "source": [
    "#new vals: 24,   63,   100,   146,   187"
   ]
  },
  {
   "cell_type": "code",
   "execution_count": 41,
   "metadata": {},
   "outputs": [
    {
     "name": "stdout",
     "output_type": "stream",
     "text": [
      "25\n"
     ]
    }
   ],
   "source": [
    "value = '[AAA Photography Studios '\n",
    "\n",
    "\n",
    "\n",
    "print(len(value))\n",
    "\n",
    "\n",
    "#25- 1 = 24 then addd\n",
    "\n",
    "\n",
    "#24"
   ]
  },
  {
   "cell_type": "code",
   "execution_count": 30,
   "metadata": {},
   "outputs": [
    {
     "name": "stdout",
     "output_type": "stream",
     "text": [
      "41\n"
     ]
    }
   ],
   "source": [
    "value = '[AAA Photography Studios  ÇÇÇÇÇÇÇÇÇÇÇÇÇÇÇ'\n",
    "\n",
    "\n",
    "print(len(value))"
   ]
  },
  {
   "cell_type": "code",
   "execution_count": 31,
   "metadata": {},
   "outputs": [
    {
     "name": "stdout",
     "output_type": "stream",
     "text": [
      "42\n"
     ]
    }
   ],
   "source": [
    "value = '[AAA Photography Studios  ÇÇÇÇÇÇÇÇÇÇÇÇÇÇÇ]'\n",
    "\n",
    "\n",
    "\n",
    "print(len(value))\n",
    "\n",
    "####41"
   ]
  },
  {
   "cell_type": "code",
   "execution_count": 32,
   "metadata": {},
   "outputs": [
    {
     "name": "stdout",
     "output_type": "stream",
     "text": [
      "55\n"
     ]
    }
   ],
   "source": [
    "value = '[AAA Photography Studios  ÇÇÇÇÇÇÇÇÇÇÇÇÇÇÇ], located at '\n",
    "\n",
    "value0 = ', located at '\n",
    "\n",
    "\n",
    "\n",
    "print(len(value))\n",
    "\n",
    "\n",
    "\n",
    "#53"
   ]
  },
  {
   "cell_type": "code",
   "execution_count": 33,
   "metadata": {},
   "outputs": [
    {
     "name": "stdout",
     "output_type": "stream",
     "text": [
      "64\n"
     ]
    }
   ],
   "source": [
    "value = '[AAA Photography Studios  ÇÇÇÇÇÇÇÇÇÇÇÇÇÇÇ], located at [Address]'\n",
    "\n",
    "value0 = '[Address]'\n",
    "\n",
    "\n",
    "\n",
    "print(len(value))\n",
    "\n",
    "#54+9 = 63\n",
    "\n",
    "#63-1 = 62 then add\n",
    "\n",
    "\n",
    "\n",
    "\n",
    "#62"
   ]
  },
  {
   "cell_type": "code",
   "execution_count": 34,
   "metadata": {},
   "outputs": [
    {
     "name": "stdout",
     "output_type": "stream",
     "text": [
      "80\n"
     ]
    }
   ],
   "source": [
    "value = '[AAA Photography Studios  ÇÇÇÇÇÇÇÇÇÇÇÇÇÇÇ], located at [Address ÇÇÇÇÇÇÇÇÇÇÇÇÇÇÇ]'\n",
    "\n",
    "value0 = '[Address ÇÇÇÇÇÇÇÇÇÇÇÇÇÇÇ]'\n",
    "\n",
    "\n",
    "\n",
    "print(len(value))\n",
    "\n",
    "#54+ 25 =79\n",
    "\n",
    "#63-1 = 62 then add\n",
    "\n",
    "#####79"
   ]
  },
  {
   "cell_type": "code",
   "execution_count": 35,
   "metadata": {},
   "outputs": [
    {
     "name": "stdout",
     "output_type": "stream",
     "text": [
      "100\n"
     ]
    }
   ],
   "source": [
    "value = '[AAA Photography Studios  ÇÇÇÇÇÇÇÇÇÇÇÇÇÇÇ], located at [Address ÇÇÇÇÇÇÇÇÇÇÇÇÇÇÇ], agrees to provide '\n",
    "value0 = ', agrees to provide '\n",
    "\n",
    "\n",
    "\n",
    "print(len(value))\n",
    "\n",
    "\n",
    "\n",
    "#20-1 = 19 then add\n",
    "\n",
    "#79 +19 = 98\n",
    "\n",
    "\n",
    "\n",
    "\n",
    "#98"
   ]
  },
  {
   "cell_type": "code",
   "execution_count": 36,
   "metadata": {},
   "outputs": [
    {
     "name": "stdout",
     "output_type": "stream",
     "text": [
      "116\n"
     ]
    }
   ],
   "source": [
    "value = '[AAA Photography Studios  ÇÇÇÇÇÇÇÇÇÇÇÇÇÇÇ], located at [Address ÇÇÇÇÇÇÇÇÇÇÇÇÇÇÇ], agrees to provide  ÇÇÇÇÇÇÇÇÇÇÇÇÇÇÇ'\n",
    "value0 = ' wedding photography services '\n",
    "\n",
    "\n",
    "\n",
    "print(len(value))\n",
    "\n",
    "\n",
    "\n",
    "#20-1 = 19 then add\n",
    "\n",
    "#79 +19 = 98\n",
    "\n",
    "\n",
    "\n",
    "\n",
    "#143"
   ]
  },
  {
   "cell_type": "code",
   "execution_count": 37,
   "metadata": {},
   "outputs": [
    {
     "name": "stdout",
     "output_type": "stream",
     "text": [
      "146\n"
     ]
    }
   ],
   "source": [
    "value = '[AAA Photography Studios  ÇÇÇÇÇÇÇÇÇÇÇÇÇÇÇ], located at [Address ÇÇÇÇÇÇÇÇÇÇÇÇÇÇÇ], agrees to provide  ÇÇÇÇÇÇÇÇÇÇÇÇÇÇÇ wedding photography services '\n",
    "value0 = ' wedding photography services '\n",
    "\n",
    "\n",
    "\n",
    "print(len(value))\n",
    "\n",
    "\n",
    "\n",
    "#20-1 = 19 then add\n",
    "\n",
    "#79 +19 = 98\n",
    "\n",
    "\n",
    "\n",
    "\n",
    "#143"
   ]
  },
  {
   "cell_type": "code",
   "execution_count": 38,
   "metadata": {},
   "outputs": [
    {
     "name": "stdout",
     "output_type": "stream",
     "text": [
      "162\n"
     ]
    }
   ],
   "source": [
    "value = '[AAA Photography Studios  ÇÇÇÇÇÇÇÇÇÇÇÇÇÇÇ], located at [Address ÇÇÇÇÇÇÇÇÇÇÇÇÇÇÇ], agrees to provide  ÇÇÇÇÇÇÇÇÇÇÇÇÇÇÇ wedding photography services  ÇÇÇÇÇÇÇÇÇÇÇÇÇÇÇ'\n",
    "value0 = ' wedding photography services '\n",
    "\n",
    "\n",
    "\n",
    "print(len(value))\n",
    "\n",
    "\n",
    "\n",
    "#20-1 = 19 then add\n",
    "\n",
    "#79 +19 = 98\n",
    "\n",
    "\n",
    "\n",
    "\n",
    "#143"
   ]
  },
  {
   "cell_type": "code",
   "execution_count": 39,
   "metadata": {},
   "outputs": [
    {
     "name": "stdout",
     "output_type": "stream",
     "text": [
      "187\n"
     ]
    }
   ],
   "source": [
    "value = '[AAA Photography Studios  ÇÇÇÇÇÇÇÇÇÇÇÇÇÇÇ], located at [Address ÇÇÇÇÇÇÇÇÇÇÇÇÇÇÇ], agrees to provide  ÇÇÇÇÇÇÇÇÇÇÇÇÇÇÇ wedding photography services  ÇÇÇÇÇÇÇÇÇÇÇÇÇÇÇ to the client(s) listed '\n",
    "value0 = ' wedding photography services '\n",
    "\n",
    "\n",
    "\n",
    "print(len(value))\n",
    "\n",
    "\n",
    "\n",
    "#20-1 = 19 then add\n",
    "\n",
    "#79 +19 = 98\n",
    "\n",
    "\n",
    "\n",
    "\n",
    "#143"
   ]
  },
  {
   "cell_type": "code",
   "execution_count": 42,
   "metadata": {},
   "outputs": [
    {
     "name": "stdout",
     "output_type": "stream",
     "text": [
      "72\n"
     ]
    }
   ],
   "source": [
    "print(len(', agrees to provide wedding photography services to the client(s) listed'))"
   ]
  },
  {
   "cell_type": "code",
   "execution_count": null,
   "metadata": {},
   "outputs": [],
   "source": []
  },
  {
   "cell_type": "code",
   "execution_count": null,
   "metadata": {},
   "outputs": [],
   "source": []
  }
 ],
 "metadata": {
  "kernelspec": {
   "display_name": "Python 3",
   "language": "python",
   "name": "python3"
  },
  "language_info": {
   "codemirror_mode": {
    "name": "ipython",
    "version": 3
   },
   "file_extension": ".py",
   "mimetype": "text/x-python",
   "name": "python",
   "nbconvert_exporter": "python",
   "pygments_lexer": "ipython3",
   "version": "3.7.4"
  }
 },
 "nbformat": 4,
 "nbformat_minor": 2
}
