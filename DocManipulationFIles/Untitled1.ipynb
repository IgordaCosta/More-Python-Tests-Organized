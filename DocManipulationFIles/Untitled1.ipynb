{
 "cells": [
  {
   "cell_type": "code",
   "execution_count": null,
   "metadata": {},
   "outputs": [],
   "source": [
    "\n",
    "\n",
    "import tempfile\n",
    "import shutil\n",
    "\n",
    "def intract(zipfname, fn):\n",
    "\t'''incorperates the file fn into the zip file zipfname'''\n",
    "\ttempdir = tempfile.mkdtemp()\n",
    "\ttry:\n",
    "\t\twith open(fn) as f:\n",
    "\t\t\tnewdata = f.read()\n",
    "\t\ttempname = os.path.join(tempdir, 'new.zip')\n",
    "\t\twith zipfile.ZipFile(zipfname, 'r') as zipread:\n",
    "\t\t\twith zipfile.ZipFile(tempname, 'w') as zipwrite:\n",
    "\t\t\t\tfor item in zipread.infolist():\n",
    "\t\t\t\t\tif item.filename != fn:\n",
    "\t\t\t\t\t\tdata = zipread.read(item.filename)\n",
    "\t\t\t\t\t\tzipwrite.writestr(item, data)\n",
    "\t\t\t\tzipwrite.writestr(fn, newdata)\n",
    "\t\tshutil.move(tempname, zipfname)\n",
    "\tfinally:\n",
    "\t\tshutil.rmtree(tempdir)"
   ]
  },
  {
   "cell_type": "code",
   "execution_count": 1,
   "metadata": {},
   "outputs": [],
   "source": [
    "import zipfile"
   ]
  },
  {
   "cell_type": "code",
   "execution_count": null,
   "metadata": {},
   "outputs": [],
   "source": []
  }
 ],
 "metadata": {
  "kernelspec": {
   "display_name": "Python 3",
   "language": "python",
   "name": "python3"
  },
  "language_info": {
   "codemirror_mode": {
    "name": "ipython",
    "version": 3
   },
   "file_extension": ".py",
   "mimetype": "text/x-python",
   "name": "python",
   "nbconvert_exporter": "python",
   "pygments_lexer": "ipython3",
   "version": "3.7.4"
  }
 },
 "nbformat": 4,
 "nbformat_minor": 2
}
