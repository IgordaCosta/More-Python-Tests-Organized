{
 "cells": [
  {
   "cell_type": "code",
   "execution_count": 2,
   "metadata": {},
   "outputs": [],
   "source": [
    "# this is to get the original text data information\n",
    "\n",
    "##### this is all the steps to get the page general settings\n",
    "\n",
    "from docx import Document\n",
    "\n",
    "from bs4 import BeautifulSoup\n",
    "\n",
    "import pprint\n",
    "\n",
    "\n",
    "\n",
    "def getParagraphData(Location, DocumentName):\n",
    "\n",
    "    LocOriginalDocument = Location + DocumentName\n",
    "\n",
    "    document = Document(LocOriginalDocument)\n",
    "\n",
    "    item = document.element.xml\n",
    "\n",
    "    soup = BeautifulSoup(item)\n",
    "\n",
    "\n",
    "    responseFind = soup.find('w:sectpr')\n",
    "\n",
    "    sectData = str(responseFind)\n",
    "\n",
    "    responseFind2 = soup.find('w:body').findChildren('w:p', recursive=False)\n",
    "\n",
    "    PprParagraphList= []\n",
    "    WrParagraphList= []\n",
    "    for i in responseFind2:\n",
    "\n",
    "        ppr = i.find_all('w:ppr')    \n",
    "        PprParagraphList.append(ppr)\n",
    "\n",
    "        Wr = i.find_all('w:r')    \n",
    "        if Wr == []:\n",
    "            pass\n",
    "\n",
    "        else:   \n",
    "            WrParagraphList.append(Wr)\n",
    "\n",
    "\n",
    "    return WrParagraphList, PprParagraphList, sectData"
   ]
  },
  {
   "cell_type": "code",
   "execution_count": 3,
   "metadata": {},
   "outputs": [],
   "source": [
    "def CompareSectData(sectData, sectData2):\n",
    "    if sectData == sectData2:\n",
    "        return 'sectDataIsSame'\n",
    "    else:\n",
    "        return 'sectDataNOTsame'\n",
    "    \n"
   ]
  },
  {
   "cell_type": "code",
   "execution_count": 4,
   "metadata": {},
   "outputs": [],
   "source": [
    "def ComparePprParagraphList(PprParagraphList, PprParagraphList2):\n",
    "    if PprParagraphList == PprParagraphList2:\n",
    "        return 'PprParagraphListIsSame'\n",
    "    else:\n",
    "        return 'PprParagraphListNOTsame'"
   ]
  },
  {
   "cell_type": "code",
   "execution_count": 5,
   "metadata": {},
   "outputs": [],
   "source": [
    "def getwtValueList(WrParagraphList):\n",
    "    \n",
    "    wtValueListText = ''\n",
    "    wtValueList = []\n",
    "    for Paragraph in WrParagraphList:\n",
    "\n",
    "        for item in Paragraph:\n",
    "\n",
    "            wtValue = item.find('w:t')\n",
    "\n",
    "            if wtValue == None:\n",
    "                wtValue = ''\n",
    "            else:\n",
    "                pass\n",
    "\n",
    "            wtValueList.append(wtValue.text)\n",
    "            wtValueListText = wtValueListText + wtValue.text\n",
    "    \n",
    "    ValueInText = False\n",
    "    if 'Ÿ' in wtValueListText:\n",
    "        ValueInText = True\n",
    "\n",
    "    wtValueListText = wtValueListText.replace(\" Ÿ\", \"\")\n",
    "    wtValueListText = wtValueListText.replace(\"Ÿ\", \"\")\n",
    "\n",
    "    \n",
    "    return wtValueList , wtValueListText, ValueInText"
   ]
  },
  {
   "cell_type": "code",
   "execution_count": 6,
   "metadata": {},
   "outputs": [],
   "source": [
    "def TextSameCheck(wtValueListText, wtValueListText2):\n",
    "    \n",
    "    if wtValueListText == wtValueListText2:\n",
    "        return 'TextIsSame'\n",
    "    else:\n",
    "        return 'TextNOTsame'\n",
    "        "
   ]
  },
  {
   "cell_type": "code",
   "execution_count": 7,
   "metadata": {},
   "outputs": [],
   "source": [
    "def OrderCorrectlyWtValues(wtValueList, wtValueList2):\n",
    "\n",
    "    if str(wtValueList) == str(wtValueList2):\n",
    "        checkValue = '2'\n",
    "        valueForFunction = wtValueList\n",
    "        valueForFunctionLess = wtValueList2\n",
    "\n",
    "    else:\n",
    "        checkValue='-1'\n",
    "        if len(wtValueList)> len(wtValueList2):\n",
    "            checkValue = '0'\n",
    "            valueForFunction = wtValueList\n",
    "            valueForFunctionLess = wtValueList2\n",
    "            \n",
    "        else:\n",
    "            checkValue = '1'\n",
    "            valueForFunction = wtValueList2\n",
    "            valueForFunctionLess = wtValueList\n",
    "            \n",
    "\n",
    "    return checkValue, valueForFunction , valueForFunctionLess"
   ]
  },
  {
   "cell_type": "code",
   "execution_count": 8,
   "metadata": {},
   "outputs": [],
   "source": [
    "def getStartSentecePartList(valueForFunctionLess, valueForFunction):\n",
    "\n",
    "    StartSentecePartList = []\n",
    "    StartSentecePart = -1\n",
    "    NumberOfSentecePartsList = []\n",
    "    \n",
    "    for i in range(len(valueForFunctionLess)):\n",
    "        item = valueForFunctionLess[i]\n",
    "\n",
    "        startLetterLocation = -1    \n",
    "        for l in range(len(item)):\n",
    "            letter = item[l]\n",
    "\n",
    "            breakHappend = False\n",
    "            for x in range(StartSentecePart, len(valueForFunction)):\n",
    "\n",
    "                if breakHappend:\n",
    "                    break\n",
    "\n",
    "                senteceTocheck = valueForFunction[x]            \n",
    "\n",
    "                for z in range(startLetterLocation , len(senteceTocheck)):\n",
    "\n",
    "                    if breakHappend:\n",
    "                        break                    \n",
    "\n",
    "                    startLetterLocation  = startLetterLocation  + 1\n",
    "\n",
    "                    leterToCheck = senteceTocheck[z]\n",
    "\n",
    "                    if z == len(senteceTocheck) -1 :\n",
    "                        startLetterLocation = -1\n",
    "                        StartSentecePart = StartSentecePart + 1\n",
    "\n",
    "                    if leterToCheck == letter:                   \n",
    "                        NumberOfSentecePartsList.append(StartSentecePart)                \n",
    "                        breakHappend = True\n",
    "                        break\n",
    "\n",
    "\n",
    "        StartSentecePartList.append(StartSentecePart - 1)     \n",
    "\n",
    "        \n",
    "    return StartSentecePartList"
   ]
  },
  {
   "cell_type": "code",
   "execution_count": 9,
   "metadata": {},
   "outputs": [],
   "source": [
    "def getRangeChangeList(StartSentecePartList):\n",
    "    \n",
    "    RangeList = []\n",
    "    for i in range(len(StartSentecePartList)):\n",
    "\n",
    "        HigherRange = StartSentecePartList[i] \n",
    "\n",
    "        if i == 0:\n",
    "            LowerRange = 0\n",
    "        else:\n",
    "            LowerRange = StartSentecePartList[i-1] +1\n",
    "\n",
    "        RangeItem = [LowerRange, HigherRange]\n",
    "\n",
    "        RangeList.append(RangeItem)\n",
    "\n",
    "\n",
    "    return RangeList"
   ]
  },
  {
   "cell_type": "code",
   "execution_count": 10,
   "metadata": {},
   "outputs": [],
   "source": [
    "\n",
    "######## this is for checking if the words even though having a controlled additin were not altered by things like \n",
    "######## if its bold or italic or underlined, etc.\n",
    "\n",
    "\n",
    "def CheckforItalicBoldAlteration(RangeList, WrParagraphList):\n",
    "       \n",
    "    rprItemList = []\n",
    "    for x in range(len(WrParagraphList)):\n",
    "        checkedItem = WrParagraphList[x]\n",
    "\n",
    "        for t in range(len(checkedItem)):\n",
    "            checkedItemPart = checkedItem[t]\n",
    "            rprItem = checkedItemPart.find('w:rpr')\n",
    "            rprItemList.append(rprItem)\n",
    "        \n",
    "\n",
    "    NotTheSame = False\n",
    "    for i in range(len(RangeList)):\n",
    "\n",
    "        if NotTheSame:\n",
    "            break\n",
    "\n",
    "        rangeListItem = RangeList[i]\n",
    "\n",
    "        for i in range(rangeListItem[0], rangeListItem[1] + 1 ):\n",
    "            if rangeListItem[0] == i:\n",
    "                compareItem = rprItemList[i]\n",
    "                \n",
    "            else:\n",
    "                if str(compareItem) == str(rprItemList[i]):\n",
    "                    pass\n",
    "                \n",
    "                else:\n",
    "                    NotTheSame = True\n",
    "                    break\n",
    "\n",
    "    if NotTheSame:\n",
    "        return 'NOTtheSame'\n",
    "\n",
    "    else:\n",
    "        return 'SameValues'"
   ]
  },
  {
   "cell_type": "code",
   "execution_count": 11,
   "metadata": {},
   "outputs": [],
   "source": [
    "\n",
    "\n",
    "def CheckIfParagraphDataSame(Location, DocumentName, DocumentName2, Location2 = ''):\n",
    "    \n",
    "    if Location2 == '':\n",
    "        Location2 = Location\n",
    "\n",
    "    isSameValues = 'NOTtheSame'  \n",
    "        \n",
    "    WrParagraphList, PprParagraphList, sectData = getParagraphData(Location, DocumentName)\n",
    "\n",
    "    Location = Location2\n",
    "    DocumentName = DocumentName2 \n",
    "\n",
    "    WrParagraphList2, PprParagraphList2, sectData2 = getParagraphData(Location, DocumentName)\n",
    "\n",
    "    IsSectDataSame = CompareSectData(sectData, sectData2)\n",
    "\n",
    "    ContinueOK = False\n",
    "    if IsSectDataSame == 'sectDataIsSame':\n",
    "        ContinueOK = True\n",
    "    elif IsSectDataSame == 'sectDataNOTsame':\n",
    "        pass\n",
    "    else:\n",
    "        print('IsSectDataSame is not a valid value, IsSectDataSame is: ' + IsSectDataSame)\n",
    "\n",
    "    if ContinueOK:\n",
    "        ContinueOK = False\n",
    "\n",
    "        IsPprParagraphListSame = ComparePprParagraphList(PprParagraphList, PprParagraphList2)\n",
    "\n",
    "        if IsPprParagraphListSame == 'PprParagraphListIsSame':\n",
    "            ContinueOK = True\n",
    "        elif IsPprParagraphListSame == 'PprParagraphListNOTsame':\n",
    "            pass\n",
    "        else:\n",
    "            print('IsPprParagraphListSame is not a valid value, IsPprParagraphListSame is: ' + IsPprParagraphListSame)\n",
    "\n",
    "\n",
    "        if ContinueOK:\n",
    "            ContinueOK = False\n",
    "            \n",
    "            wtValueList , wtValueListText, ValueInText = getwtValueList(WrParagraphList)\n",
    "            wtValueList2 , wtValueListText2, ValueInText2 = getwtValueList(WrParagraphList2)\n",
    "            \n",
    "            if ValueInText == ValueInText2:\n",
    "                if ValueInText == False:\n",
    "                    isSameValues = 'ValueNOTAdded'\n",
    "                    \n",
    "                else:\n",
    "                    isSameValues = 'ERRORoriginalDocumentHasLetterCode'\n",
    "\n",
    "            else:\n",
    "                ContinueOK = True\n",
    "                \n",
    "            \n",
    "            if ContinueOK:\n",
    "                ContinueOK = False\n",
    "                \n",
    "                if ValueInText:\n",
    "                    pass\n",
    "                else:\n",
    "                    \n",
    "                    CwtValueList  = wtValueList2                     \n",
    "                    CwtValueListText = wtValueListText2                    \n",
    "                    CValueInText = ValueInText2\n",
    "                    \n",
    "                    \n",
    "                    CwtValueList2 = wtValueList                 \n",
    "                    CwtValueListText2 = wtValueListText                    \n",
    "                    CValueInText2 = ValueInText\n",
    "                    \n",
    "                    \n",
    "                    wtValueList2  = CwtValueList2                    \n",
    "                    wtValueListText2 = CwtValueListText2                  \n",
    "                    ValueInText2 = CValueInText2\n",
    "                    \n",
    "                    \n",
    "                    wtValueList = CwtValueList                    \n",
    "                    wtValueListText = CwtValueListText                   \n",
    "                    ValueInText = CValueInText\n",
    "                    \n",
    "                                                            \n",
    "                    CWrParagraphList = WrParagraphList2\n",
    "                    \n",
    "                    CWrParagraphList2 = WrParagraphList                                  \n",
    "                    \n",
    "                    \n",
    "                    WrParagraphList = CWrParagraphList \n",
    "                    \n",
    "                    WrParagraphList2 = CWrParagraphList2\n",
    "                    \n",
    "                                                                                                                                                   \n",
    "                isTextSame = TextSameCheck(wtValueListText, wtValueListText2)\n",
    "\n",
    "                if isTextSame == 'TextIsSame':\n",
    "                    ContinueOK = True\n",
    "                elif isTextSame == 'TextNOTsame':\n",
    "                    pass\n",
    "                else:\n",
    "                    print('isTextSame is not a valid value, isTextSame is: ' + isTextSame)\n",
    "\n",
    "\n",
    "                if ContinueOK:\n",
    "    #                 ContinueOK = False\n",
    "\n",
    "                    checkValue, valueForFunction , valueForFunctionLess = OrderCorrectlyWtValues(wtValueList, wtValueList2)\n",
    "\n",
    "                    StartSentecePartList = getStartSentecePartList(valueForFunctionLess, valueForFunction)\n",
    "\n",
    "                    RangeList = getRangeChangeList(StartSentecePartList)\n",
    "\n",
    "                    isSameValues = CheckforItalicBoldAlteration(RangeList, WrParagraphList)\n",
    "            \n",
    "            \n",
    "            \n",
    "            \n",
    "            \n",
    "    \n",
    "    return isSameValues\n",
    "        \n",
    "            \n",
    "        \n",
    "    \n",
    "    \n",
    "    \n"
   ]
  },
  {
   "cell_type": "code",
   "execution_count": 110,
   "metadata": {},
   "outputs": [
    {
     "data": {
      "text/plain": [
       "'SameValues'"
      ]
     },
     "execution_count": 110,
     "metadata": {},
     "output_type": "execute_result"
    }
   ],
   "source": [
    "Location = r'C:\\Users\\IgorDC\\Desktop\\PydocTest' + '\\\\'\n",
    "DocumentName = 'DifferentLineText6Changed.docx'\n",
    "\n",
    "\n",
    "# Location2 = r'C:\\Users\\IgorDC\\Desktop\\PydocTest' + '\\\\'\n",
    "DocumentName2 = 'DifferentLineText6.docx'\n",
    "\n",
    "\n",
    "# CheckIfParagraphDataSame(Location, DocumentName, DocumentName2, Location2 = '')\n",
    "\n",
    "CheckIfParagraphDataSame(Location, DocumentName, DocumentName2)"
   ]
  },
  {
   "cell_type": "code",
   "execution_count": 111,
   "metadata": {},
   "outputs": [
    {
     "data": {
      "text/plain": [
       "'NOTtheSame'"
      ]
     },
     "execution_count": 111,
     "metadata": {},
     "output_type": "execute_result"
    }
   ],
   "source": [
    "\n",
    "\n",
    "Location = r'C:\\Users\\IgorDC\\Desktop\\PydocTest' + '\\\\'\n",
    "DocumentName = 'DifferentLineText6ChangedCharAdded.docx'\n",
    "\n",
    "\n",
    "# Location2 = r'C:\\Users\\IgorDC\\Desktop\\PydocTest' + '\\\\'\n",
    "DocumentName2 = 'DifferentLineText6.docx'\n",
    "\n",
    "\n",
    "# CheckIfParagraphDataSame(Location, DocumentName, DocumentName2, Location2 = '')\n",
    "\n",
    "CheckIfParagraphDataSame(Location, DocumentName, DocumentName2)\n",
    "\n"
   ]
  },
  {
   "cell_type": "code",
   "execution_count": 112,
   "metadata": {},
   "outputs": [
    {
     "data": {
      "text/plain": [
       "'NOTtheSame'"
      ]
     },
     "execution_count": 112,
     "metadata": {},
     "output_type": "execute_result"
    }
   ],
   "source": [
    "\n",
    "\n",
    "\n",
    "\n",
    "Location = r'C:\\Users\\IgorDC\\Desktop\\PydocTest' + '\\\\'\n",
    "DocumentName = 'DifferentLineText6ChangedCharRemoved.docx'\n",
    "\n",
    "# Location2 = r'C:\\Users\\IgorDC\\Desktop\\PydocTest' + '\\\\'\n",
    "DocumentName2 = 'DifferentLineText6.docx'\n",
    "\n",
    "\n",
    "# CheckIfParagraphDataSame(Location, DocumentName, DocumentName2, Location2 = '')\n",
    "\n",
    "CheckIfParagraphDataSame(Location, DocumentName, DocumentName2)"
   ]
  },
  {
   "cell_type": "code",
   "execution_count": 113,
   "metadata": {},
   "outputs": [
    {
     "data": {
      "text/plain": [
       "'ValueNOTAdded'"
      ]
     },
     "execution_count": 113,
     "metadata": {},
     "output_type": "execute_result"
    }
   ],
   "source": [
    "\n",
    "\n",
    "Location = r'C:\\Users\\IgorDC\\Desktop\\PydocTest' + '\\\\'\n",
    "DocumentName = 'DifferentLineText6.docx'\n",
    "\n",
    "# Location2 = r'C:\\Users\\IgorDC\\Desktop\\PydocTest' + '\\\\'\n",
    "DocumentName2 = 'DifferentLineText6.docx'\n",
    "\n",
    "\n",
    "# CheckIfParagraphDataSame(Location, DocumentName, DocumentName2, Location2 = '')\n",
    "\n",
    "CheckIfParagraphDataSame(Location, DocumentName, DocumentName2)"
   ]
  },
  {
   "cell_type": "code",
   "execution_count": 15,
   "metadata": {},
   "outputs": [
    {
     "data": {
      "text/plain": [
       "'NOTtheSame'"
      ]
     },
     "execution_count": 15,
     "metadata": {},
     "output_type": "execute_result"
    }
   ],
   "source": [
    "\n",
    "\n",
    "\n",
    "Location = r'C:\\Users\\IgorDC\\Desktop\\PydocTest' + '\\\\'\n",
    "DocumentName = 'DifferentLineText6ChangedChatToBold.docx'\n",
    "\n",
    "# Location2 = r'C:\\Users\\IgorDC\\Desktop\\PydocTest' + '\\\\'\n",
    "DocumentName2 = 'DifferentLineText6.docx'\n",
    "\n",
    "\n",
    "# CheckIfParagraphDataSame(Location, DocumentName, DocumentName2, Location2 = '')\n",
    "\n",
    "CheckIfParagraphDataSame(Location, DocumentName, DocumentName2)"
   ]
  },
  {
   "cell_type": "code",
   "execution_count": 14,
   "metadata": {},
   "outputs": [
    {
     "data": {
      "text/plain": [
       "'SameValues'"
      ]
     },
     "execution_count": 14,
     "metadata": {},
     "output_type": "execute_result"
    }
   ],
   "source": [
    "######### it must be noted that if you switch the names of DocumentName to DocumentName2\n",
    "######### this will cause an error in the answer\n",
    "\n",
    "######## this is now fixed and both values can be switch without causing errors\n",
    "######## it detects if it was switched by mistake\n",
    "\n",
    "######## this needs to be changed\n",
    "\n",
    "\n",
    "Location = r'C:\\Users\\IgorDC\\Desktop\\PydocTest' + '\\\\'\n",
    "DocumentName2 = 'DifferentLineText6Changed.docx'\n",
    "\n",
    "\n",
    "# Location2 = r'C:\\Users\\IgorDC\\Desktop\\PydocTest' + '\\\\'\n",
    "DocumentName = 'DifferentLineText6.docx'\n",
    "\n",
    "\n",
    "# CheckIfParagraphDataSame(Location, DocumentName, DocumentName2, Location2 = '')\n",
    "\n",
    "CheckIfParagraphDataSame(Location, DocumentName, DocumentName2)"
   ]
  },
  {
   "cell_type": "code",
   "execution_count": 116,
   "metadata": {},
   "outputs": [
    {
     "data": {
      "text/plain": [
       "'NOTtheSame'"
      ]
     },
     "execution_count": 116,
     "metadata": {},
     "output_type": "execute_result"
    }
   ],
   "source": [
    "\n",
    "\n",
    "\n",
    "\n",
    "\n",
    "Location = r'C:\\Users\\IgorDC\\Desktop\\PydocTest' + '\\\\'\n",
    "DocumentName2 = 'DifferentLineText6ChangedFontChanged.docx'\n",
    "\n",
    "\n",
    "# Location2 = r'C:\\Users\\IgorDC\\Desktop\\PydocTest' + '\\\\'\n",
    "DocumentName = 'DifferentLineText6.docx'\n",
    "\n",
    "\n",
    "# CheckIfParagraphDataSame(Location, DocumentName, DocumentName2, Location2 = '')\n",
    "\n",
    "CheckIfParagraphDataSame(Location, DocumentName, DocumentName2)"
   ]
  },
  {
   "cell_type": "code",
   "execution_count": 117,
   "metadata": {},
   "outputs": [
    {
     "data": {
      "text/plain": [
       "'NOTtheSame'"
      ]
     },
     "execution_count": 117,
     "metadata": {},
     "output_type": "execute_result"
    }
   ],
   "source": [
    "Location = r'C:\\Users\\IgorDC\\Desktop\\PydocTest' + '\\\\'\n",
    "DocumentName = 'DifferentLineText6ChangedFontChanged.docx'\n",
    "\n",
    "\n",
    "# Location2 = r'C:\\Users\\IgorDC\\Desktop\\PydocTest' + '\\\\'\n",
    "DocumentName2 = 'DifferentLineText6.docx'\n",
    "\n",
    "\n",
    "# CheckIfParagraphDataSame(Location, DocumentName, DocumentName2, Location2 = '')\n",
    "\n",
    "CheckIfParagraphDataSame(Location, DocumentName, DocumentName2)"
   ]
  },
  {
   "cell_type": "code",
   "execution_count": 13,
   "metadata": {},
   "outputs": [
    {
     "data": {
      "text/plain": [
       "'NOTtheSame'"
      ]
     },
     "execution_count": 13,
     "metadata": {},
     "output_type": "execute_result"
    }
   ],
   "source": [
    "\n",
    "\n",
    "Location = r'C:\\Users\\IgorDC\\Desktop\\PydocTest' + '\\\\'\n",
    "DocumentName = 'DifferentLineText6ChangedHeaderSIzeChanged.docx'\n",
    "\n",
    "\n",
    "# Location2 = r'C:\\Users\\IgorDC\\Desktop\\PydocTest' + '\\\\'\n",
    "DocumentName2 = 'DifferentLineText6.docx'\n",
    "\n",
    "\n",
    "# CheckIfParagraphDataSame(Location, DocumentName, DocumentName2, Location2 = '')\n",
    "\n",
    "CheckIfParagraphDataSame(Location, DocumentName, DocumentName2)"
   ]
  },
  {
   "cell_type": "code",
   "execution_count": 12,
   "metadata": {},
   "outputs": [
    {
     "data": {
      "text/plain": [
       "'NOTtheSame'"
      ]
     },
     "execution_count": 12,
     "metadata": {},
     "output_type": "execute_result"
    }
   ],
   "source": [
    "'DifferentLineText6ChangedAddedHeaderText.docx'\n",
    "\n",
    "\n",
    "\n",
    "\n",
    "Location = r'C:\\Users\\IgorDC\\Desktop\\PydocTest' + '\\\\'\n",
    "DocumentName = 'DifferentLineText6ChangedAddedHeaderText.docx'\n",
    "\n",
    "\n",
    "# Location2 = r'C:\\Users\\IgorDC\\Desktop\\PydocTest' + '\\\\'\n",
    "DocumentName2 = 'DifferentLineText6.docx'\n",
    "\n",
    "\n",
    "# CheckIfParagraphDataSame(Location, DocumentName, DocumentName2, Location2 = '')\n",
    "\n",
    "CheckIfParagraphDataSame(Location, DocumentName, DocumentName2)"
   ]
  },
  {
   "cell_type": "code",
   "execution_count": null,
   "metadata": {},
   "outputs": [],
   "source": []
  }
 ],
 "metadata": {
  "kernelspec": {
   "display_name": "Python 3",
   "language": "python",
   "name": "python3"
  },
  "language_info": {
   "codemirror_mode": {
    "name": "ipython",
    "version": 3
   },
   "file_extension": ".py",
   "mimetype": "text/x-python",
   "name": "python",
   "nbconvert_exporter": "python",
   "pygments_lexer": "ipython3",
   "version": "3.7.4"
  }
 },
 "nbformat": 4,
 "nbformat_minor": 2
}
